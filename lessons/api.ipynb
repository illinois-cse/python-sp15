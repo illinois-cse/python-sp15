{
 "metadata": {
  "name": "",
  "signature": "sha256:8a53cdb3b92307574945fc2293ec7b02b495e5af3c9ddd1970e26332af25f1b3"
 },
 "nbformat": 3,
 "nbformat_minor": 0,
 "worksheets": [
  {
   "cells": [
    {
     "cell_type": "markdown",
     "metadata": {},
     "source": [
      "[![](https://bytebucket.org/davis68/resources/raw/f7c98d2b95e961fae257707e22a58fa1a2c36bec/logos/baseline_cse_wdmk.png?token=be4cc41d4b2afe594f5b1570a3c5aad96a65f0d6)](http://cse.illinois.edu/)"
     ]
    },
    {
     "cell_type": "markdown",
     "metadata": {},
     "source": [
      "\n",
      "# C & Fortran Interfacing with Python\n",
      "\n",
      "## Contents\n",
      "- [Python as Duct Tape](#motivation)\n",
      "- [Fortran](#fortran)\n",
      "    - [A Brief Introduction](#intro-f)\n",
      "    - [F2Py](#f2py)\n",
      "- [C](#c)\n",
      "    - [A Brief Introduction](#intro-c)\n",
      "    - [Using C with Python](#using-c)\n",
      "    - [Weave](#weave)\n",
      "    - [Cython](#cython)\n",
      "- [References](#refs)\n",
      "- [Credits](#credits)"
     ]
    },
    {
     "cell_type": "markdown",
     "metadata": {},
     "source": [
      "<img src=\"http://fc03.deviantart.net/fs70/f/2012/316/e/1/duct_tape_force_quote_by_seekerarmada-d5ktpyq.jpg\" height=\"400px\" width=\"300px\" />\n",
      "\n",
      "<a id='motivation'></a>\n",
      "## Python as Duct Tape\n",
      "\n",
      "Python is considered to behave as an excellent adhesive between different programming languages.  Most of what we have seen along those lines thus far involves invoking shell programs indirectly, perhaps via IPython's `!` notation or by using `sys` or `os.popen`.  However, many performance-critical modules in Python, such as NumPy, have substantial components written in C or other high-performance languages.  We'll examine several ways to interface or incorporate other languages\u2014particularly C and Fortran\u2014into your Python program in this lesson."
     ]
    },
    {
     "cell_type": "code",
     "collapsed": false,
     "input": [
      "from __future__ import division\n",
      "\n",
      "import numpy as np\n",
      "import scipy as sp\n",
      "import matplotlib as mpl\n",
      "import matplotlib.pyplot as plt"
     ],
     "language": "python",
     "metadata": {},
     "outputs": [],
     "prompt_number": 1
    },
    {
     "cell_type": "code",
     "collapsed": false,
     "input": [
      "import sys\n",
      "print(sys.prefix)\n",
      "\n",
      "!echo $PYTHONPATH"
     ],
     "language": "python",
     "metadata": {},
     "outputs": [
      {
       "output_type": "stream",
       "stream": "stdout",
       "text": [
        "/Users/lrao/Library/Enthought/Canopy_64bit/User\n",
        "\r\n"
       ]
      }
     ],
     "prompt_number": 2
    },
    {
     "cell_type": "markdown",
     "metadata": {},
     "source": [
      "**Motivation**\n",
      "\n",
      "As is probably now clear to you, Python is a flexible and easy-to-use language. The programmer time required to program a new model or calculation is typically quite short.\n",
      "\n",
      "However, this reduction in human time, comes at the expense of increasing computation time, especially when we are talking about calculations which involve iterating over large arrays. Interpreted languages (MATLAB, Python, Perl, Ruby, etc.) are thus categorically slower than low-level compiled languages (C, C++, Fortran, etc.).  On the other hand, writing lengthy programs in C and FORTRAN is a cumbersome task. This tradeoff is one motivation to code the expensive chunks in C or FORTRAN and glue the bigger picture with Python.\n",
      "\n",
      "![](http://www.behnel.de/cython200910/SimplicityVsSpeed1.png)\n",
      "\n",
      "In real terms, the range in relative performance on a set of standard benchmarks can be quantified thus (where 1.0 is the performance of C):\n",
      "\n",
      "[![](https://bytebucket.org/davis68/python/raw/310d4816ada46e9efd3593d45e6df8b46d2b66fc/lessons/img/benchmarks.png?token=43e6fd87f223127266c46c3a48325350224a73a0)](http://julialang.org/benchmarks/)\n",
      "\n",
      "Python doesn't comport itself poorly among these peers, but it's still not in the same performance league as the heavy hitters.\n",
      "\n",
      "Another major reason you may need to use Fortran or C with Python is access to legacy code:  code that is already performing to specifications that would be too expensive, difficult, or loss-incurring to port to Python."
     ]
    },
    {
     "cell_type": "markdown",
     "metadata": {},
     "source": [
      "---\n",
      "<a id='fortran'></a>\n",
      "## Fortran"
     ]
    },
    {
     "cell_type": "markdown",
     "metadata": {},
     "source": [
      "<a id='intro-f'></a>\n",
      "### A Brief Introduction to Fortran\n",
      "\n",
      "[Fortran](https://en.wikipedia.org/wiki/Fortran) (**For**mula **Tran**slation) was introduced in 1954 for numeric and scientific computing.  Fortran is compiled to machine code for the purpose of speed, and it serves as the benchmark for high-performance computing even today.  Despite ongoing criticisms, it has managed to survive and adapt for nearly sixty years.  Fortran still exists and dominates HPC due to both its computational performance and *software inertia*\u2014the enormously large body of legacy code written in Fortran.\n",
      "\n",
      "Let's look at an example FORTRAN function to get a better understanding of how it works!\n",
      "\n",
      "_Note:  This lesson's aim is not to verse you well in Fortran, so we'll neglect nitty-gritty details.  We will introduce just enough to address common needs and demonstrates interfacing with Python._"
     ]
    },
    {
     "cell_type": "code",
     "collapsed": false,
     "input": [
      "%%file circle.f\n",
      "PROGRAM CIRCLE\n",
      "REAL R, AREA\n",
      "! This program reads a real number r and prints\n",
      "! the area of a circle with radius r.\n",
      "WRITE (*,*) 'Enter radius, r = '\n",
      "READ (*,*) R\n",
      "AREA = 3.14159*R*R\n",
      "WRITE (*,*) 'Area, A = ', AREA\n",
      "STOP\n",
      "END"
     ],
     "language": "python",
     "metadata": {},
     "outputs": [
      {
       "output_type": "stream",
       "stream": "stdout",
       "text": [
        "Writing circle.f\n"
       ]
      }
     ],
     "prompt_number": 3
    },
    {
     "cell_type": "markdown",
     "metadata": {},
     "source": [
      "The resulting compilation and execution:\n",
      "\n",
      "    $ gfortran -ffree-form -o circle circle.f\n",
      "    $ ./circle\n",
      "     Enter radius, r = \n",
      "    1\n",
      "     Area, A =    3.14159012 \n",
      "\n",
      "Anyway, that's a little ugly, isn't it?  Originally, all Fortran programs had to be written in upper-case letters.  Most people now write lower-case.  You are free to mix letter case, but note that Fortran is not case-sensitive:  `X` and `x` are the same variable.\n",
      "\n",
      "If you wish to use $\\pi$ as a constant, you can do it using the `parameter` statement:"
     ]
    },
    {
     "cell_type": "code",
     "collapsed": false,
     "input": [
      "%%file circle.f\n",
      "program circle\n",
      "real r, area, pi\n",
      "parameter (pi = 3.14159)\n",
      "! This program reads a real number r and prints\n",
      "! the area of a circle with radius r.\n",
      "write (*,*) 'Enter radius, r = '\n",
      "read (*,*) R\n",
      "area = 3.14159*r*r\n",
      "write (*,*) 'Area, A = ', area\n",
      "stop\n",
      "end"
     ],
     "language": "python",
     "metadata": {},
     "outputs": [
      {
       "output_type": "stream",
       "stream": "stdout",
       "text": [
        "Overwriting circle.f\n"
       ]
      }
     ],
     "prompt_number": 4
    },
    {
     "cell_type": "markdown",
     "metadata": {},
     "source": [
      "#### Data Types\n",
      "\n",
      "Every variable _should_ be defined in a declaration.  This establishes the type of the variable. The most common declarations are:\n",
      "\n",
      "      integer              list of variables\n",
      "      real                 list of variables\n",
      "      double precision     list of variables\n",
      "      complex              list of variables\n",
      "      logical              list of variables\n",
      "      character            list of variables\n",
      "\n",
      "Implicit typing can be turned on or off using `implicit [real]` or `implicit none`, and the latter in particular is often seen in the wild.\n",
      "\n",
      "- [FORTRAN77 Tutorial](http://web.stanford.edu/class/me200c/tutorial_77/10_arrays.html)"
     ]
    },
    {
     "cell_type": "markdown",
     "metadata": {},
     "source": [
      "#### Arrays\n",
      "\n",
      "FORTRAN uses one dimensional arrays to correspond to vectors and 2D arrays to represent matrices."
     ]
    },
    {
     "cell_type": "markdown",
     "metadata": {},
     "source": [
      "##### 1D Arrays\n",
      "\n",
      "    real a(20)\n",
      "\n",
      "declares an array of size 20.  By convention, Fortran arrays are indexed from 1 (MATLAB follows this convention as well).  Thus the first number in the array is denoted by a(1) and the last by a(20).\n",
      "\n",
      "    integer i(10)\n",
      "    logical aa(0:1)\n",
      "    double precision x(100)\n",
      "\n",
      "This code segment stores the 10 first square numbers in the array sq:\n",
      "\n",
      "    integer i, sq(10)\n",
      "    do 100 i = 1, 10\n",
      "         sq(i) = i**2\n",
      "    100 continue\n",
      "  \n",
      "A common bug in Fortran is that the program tries to access array elements that are out of bounds or undefined.  This is the responsibility of the programmer, and the Fortran compiler will not detect any such bugs!\n",
      "\n",
      "_Note_:  One tricky thing about reading Fortran code is that constructs may not mean what you think.  For instance:\n",
      "- `real*8 a` does not mean a vector `a` with eight components, but an eight-byte (C `double`) floating-point number `a`.\n",
      "- `.le.` and other operators of this type mean less than or equal to, `<=`, etc."
     ]
    },
    {
     "cell_type": "markdown",
     "metadata": {},
     "source": [
      "##### 2D Arrays\n",
      "\n",
      "    real A(3,5)\n",
      "\n",
      "declares a 2D array of size 3x5.  It is common to declare arrays of a larger size than what we use because in FORTRAN we cannot dynamically change the size of an array.  In other words, arrays are *static*.\n",
      "\n",
      "    real A(3,5)\n",
      "    integer i,j\n",
      "    ! We will only use the upper 3 by 3 part of this array.\n",
      "    do 20 j = 1, 3\n",
      "      do 10 i = 1, 3\n",
      "          a(i,j) = real(i)/real(j)\n",
      "      10 continue\n",
      "    20 continue\n",
      "\n",
      "Note also that, contrary to C and Python, Fortran arrays are _column-major_.  The first index refers to the _row_, as is conventional in linear algebraic notation, but loops would need to be reversed relative to C (thus loop over rows before columns in Fortran for efficiency ([src](http://jblevins.org/log/efficient-code))).  This becomes critical when passing data to and from Fortran."
     ]
    },
    {
     "cell_type": "markdown",
     "metadata": {},
     "source": [
      "---\n",
      "<a id='f2py'></a>\n",
      "#### F2PY\n",
      "\n",
      "The [F2PY](http://docs.scipy.org/doc/numpy-dev/f2py/) program (now part of NumPy) offers the best of both worlds:  it wraps existing Fortran code for use in Python, including providing reasonable documentation automatically.  With F2PY, we can compile modules from Fortran code which can then be imported into Python directly.\n",
      "\n",
      "\n",
      "\n",
      "- [F2PY References](http://www.f2py.com/home/references)"
     ]
    },
    {
     "cell_type": "code",
     "collapsed": false,
     "input": [
      "%%file hellofortran.f\n",
      "! File  hellofortran.f\n",
      "        subroutine hellofortran (n)\n",
      "        integer n\n",
      "       \n",
      "        do 100 i=0, n\n",
      "            print *, \"Fortran says hello\"\n",
      "100     continue\n",
      "        end"
     ],
     "language": "python",
     "metadata": {},
     "outputs": [
      {
       "output_type": "stream",
       "stream": "stdout",
       "text": [
        "Overwriting hellofortran.f\n"
       ]
      }
     ],
     "prompt_number": 5
    },
    {
     "cell_type": "code",
     "collapsed": false,
     "input": [
      "!f2py -c -m hellofortran hellofortran.f"
     ],
     "language": "python",
     "metadata": {},
     "outputs": [
      {
       "output_type": "stream",
       "stream": "stdout",
       "text": [
        "\u001b[39mrunning build\u001b[0m\r\n",
        "\u001b[39mrunning config_cc\u001b[0m\r\n",
        "\u001b[39munifing config_cc, config, build_clib, build_ext, build commands --compiler options\u001b[0m\r\n",
        "\u001b[39mrunning config_fc\u001b[0m\r\n",
        "\u001b[39munifing config_fc, config, build_clib, build_ext, build commands --fcompiler options\u001b[0m\r\n",
        "\u001b[39mrunning build_src\u001b[0m\r\n",
        "\u001b[39mbuild_src\u001b[0m\r\n",
        "\u001b[39mbuilding extension \"hellofortran\" sources\u001b[0m\r\n",
        "\u001b[39mf2py options: []\u001b[0m\r\n",
        "\u001b[39mf2py:> /var/folders/sj/lkcv2fm52491sv_04hq72cb80000gn/T/tmpknMN5X/src.macosx-10.6-x86_64-2.7/hellofortranmodule.c\u001b[0m\r\n",
        "\u001b[39mcreating /var/folders/sj/lkcv2fm52491sv_04hq72cb80000gn/T/tmpknMN5X/src.macosx-10.6-x86_64-2.7\u001b[0m\r\n"
       ]
      },
      {
       "output_type": "stream",
       "stream": "stdout",
       "text": [
        "Reading fortran codes...\r\n",
        "\tReading file 'hellofortran.f' (format:fix,strict)\r\n",
        "Post-processing...\r\n",
        "\tBlock: hellofortran\r\n",
        "\t\t\tBlock: hellofortran\r\n",
        "Post-processing (stage 2)...\r\n",
        "Building modules...\r\n",
        "\tBuilding module \"hellofortran\"...\r\n",
        "\t\tConstructing wrapper function \"hellofortran\"...\r\n",
        "\t\t  hellofortran(n)\r\n",
        "\tWrote C/API module \"hellofortran\" to file \"/var/folders/sj/lkcv2fm52491sv_04hq72cb80000gn/T/tmpknMN5X/src.macosx-10.6-x86_64-2.7/hellofortranmodule.c\"\r\n",
        "\u001b[39m  adding '/var/folders/sj/lkcv2fm52491sv_04hq72cb80000gn/T/tmpknMN5X/src.macosx-10.6-x86_64-2.7/fortranobject.c' to sources.\u001b[0m\r\n",
        "\u001b[39m  adding '/var/folders/sj/lkcv2fm52491sv_04hq72cb80000gn/T/tmpknMN5X/src.macosx-10.6-x86_64-2.7' to include_dirs.\u001b[0m\r\n",
        "\u001b[39mcopying /Users/lrao/Library/Enthought/Canopy_64bit/User/lib/python2.7/site-packages/numpy/f2py/src/fortranobject.c -> /var/folders/sj/lkcv2fm52491sv_04hq72cb80000gn/T/tmpknMN5X/src.macosx-10.6-x86_64-2.7\u001b[0m\r\n",
        "\u001b[39mcopying /Users/lrao/Library/Enthought/Canopy_64bit/User/lib/python2.7/site-packages/numpy/f2py/src/fortranobject.h -> /var/folders/sj/lkcv2fm52491sv_04hq72cb80000gn/T/tmpknMN5X/src.macosx-10.6-x86_64-2.7\u001b[0m\r\n",
        "\u001b[39mbuild_src: building npy-pkg config files\u001b[0m\r\n",
        "\u001b[39mrunning build_ext\u001b[0m\r\n",
        "\u001b[39mcustomize UnixCCompiler\u001b[0m\r\n"
       ]
      },
      {
       "output_type": "stream",
       "stream": "stdout",
       "text": [
        "\u001b[39mcustomize UnixCCompiler using build_ext\u001b[0m\r\n"
       ]
      },
      {
       "output_type": "stream",
       "stream": "stdout",
       "text": [
        "\u001b[39mcustomize Gnu95FCompiler\u001b[0m\r\n",
        "\u001b[39mFound executable /usr/local/bin/gfortran\u001b[0m\r\n"
       ]
      },
      {
       "output_type": "stream",
       "stream": "stdout",
       "text": [
        "\u001b[39mcustomize Gnu95FCompiler\u001b[0m\r\n"
       ]
      },
      {
       "output_type": "stream",
       "stream": "stdout",
       "text": [
        "\u001b[39mcustomize Gnu95FCompiler using build_ext\u001b[0m\r\n",
        "\u001b[39mbuilding 'hellofortran' extension\u001b[0m\r\n",
        "\u001b[39mcompiling C sources\u001b[0m\r\n",
        "\u001b[39mC compiler: gcc -fno-strict-aliasing -fno-common -dynamic -arch x86_64 -DNDEBUG -g -O3 -arch x86_64\r\n",
        "\u001b[0m\r\n",
        "\u001b[39mcreating /var/folders/sj/lkcv2fm52491sv_04hq72cb80000gn/T/tmpknMN5X/var\u001b[0m\r\n",
        "\u001b[39mcreating /var/folders/sj/lkcv2fm52491sv_04hq72cb80000gn/T/tmpknMN5X/var/folders\u001b[0m\r\n",
        "\u001b[39mcreating /var/folders/sj/lkcv2fm52491sv_04hq72cb80000gn/T/tmpknMN5X/var/folders/sj\u001b[0m\r\n",
        "\u001b[39mcreating /var/folders/sj/lkcv2fm52491sv_04hq72cb80000gn/T/tmpknMN5X/var/folders/sj/lkcv2fm52491sv_04hq72cb80000gn\u001b[0m\r\n",
        "\u001b[39mcreating /var/folders/sj/lkcv2fm52491sv_04hq72cb80000gn/T/tmpknMN5X/var/folders/sj/lkcv2fm52491sv_04hq72cb80000gn/T\u001b[0m\r\n",
        "\u001b[39mcreating /var/folders/sj/lkcv2fm52491sv_04hq72cb80000gn/T/tmpknMN5X/var/folders/sj/lkcv2fm52491sv_04hq72cb80000gn/T/tmpknMN5X\u001b[0m\r\n",
        "\u001b[39mcreating /var/folders/sj/lkcv2fm52491sv_04hq72cb80000gn/T/tmpknMN5X/var/folders/sj/lkcv2fm52491sv_04hq72cb80000gn/T/tmpknMN5X/src.macosx-10.6-x86_64-2.7\u001b[0m\r\n",
        "\u001b[39mcompile options: '-I/var/folders/sj/lkcv2fm52491sv_04hq72cb80000gn/T/tmpknMN5X/src.macosx-10.6-x86_64-2.7 -I/Users/lrao/Library/Enthought/Canopy_64bit/User/lib/python2.7/site-packages/numpy/core/include -I/Applications/Canopy.app/appdata/updates/ready/canopy-1.4.0.1938.macosx-x86_64/Canopy.app/Contents/include/python2.7 -c'\u001b[0m\r\n",
        "\u001b[39mgcc: /var/folders/sj/lkcv2fm52491sv_04hq72cb80000gn/T/tmpknMN5X/src.macosx-10.6-x86_64-2.7/fortranobject.c\u001b[0m\r\n"
       ]
      },
      {
       "output_type": "stream",
       "stream": "stdout",
       "text": [
        "In file included from /var/folders/sj/lkcv2fm52491sv_04hq72cb80000gn/T/tmpknMN5X/src.macosx-10.6-x86_64-2.7/fortranobject.c:2:\r\n",
        "In file included from /var/folders/sj/lkcv2fm52491sv_04hq72cb80000gn/T/tmpknMN5X/src.macosx-10.6-x86_64-2.7/fortranobject.h:13:\r\n",
        "In file included from /Users/lrao/Library/Enthought/Canopy_64bit/User/lib/python2.7/site-packages/numpy/core/include/numpy/arrayobject.h:4:\r\n",
        "In file included from /Users/lrao/Library/Enthought/Canopy_64bit/User/lib/python2.7/site-packages/numpy/core/include/numpy/ndarrayobject.h:17:\r\n",
        "In file included from /Users/lrao/Library/Enthought/Canopy_64bit/User/lib/python2.7/site-packages/numpy/core/include/numpy/ndarraytypes.h:1761:\r\n",
        "/Users/lrao/Library/Enthought/Canopy_64bit/User/lib/python2.7/site-packages/numpy/core/include/numpy/npy_1_7_deprecated_api.h:15:2: warning: \"Using deprecated NumPy API, disable it by \"          \"#defining NPY_NO_DEPRECATED_API NPY_1_7_API_VERSION\" [-W#warnings]\r\n",
        "#warning \"Using deprecated NumPy API, disable it by \" \\\r\n",
        " ^\r\n"
       ]
      },
      {
       "output_type": "stream",
       "stream": "stdout",
       "text": [
        "/var/folders/sj/lkcv2fm52491sv_04hq72cb80000gn/T/tmpknMN5X/src.macosx-10.6-x86_64-2.7/fortranobject.c:338:30: warning: equality comparison with extraneous parentheses [-Wparentheses-equality]\r\n",
        "        if ((fp->defs[i].func==NULL)) {\r\n",
        "             ~~~~~~~~~~~~~~~~^~~~~~\r\n",
        "/var/folders/sj/lkcv2fm52491sv_04hq72cb80000gn/T/tmpknMN5X/src.macosx-10.6-x86_64-2.7/fortranobject.c:338:30: note: remove extraneous parentheses around the comparison to silence this warning\r\n",
        "        if ((fp->defs[i].func==NULL)) {\r\n",
        "            ~                ^     ~\r\n",
        "/var/folders/sj/lkcv2fm52491sv_04hq72cb80000gn/T/tmpknMN5X/src.macosx-10.6-x86_64-2.7/fortranobject.c:338:30: note: use '=' to turn this equality comparison into an assignment\r\n",
        "        if ((fp->defs[i].func==NULL)) {\r\n",
        "                             ^~\r\n",
        "                             =\r\n"
       ]
      },
      {
       "output_type": "stream",
       "stream": "stdout",
       "text": [
        "2 warnings generated.\r\n",
        "\u001b[39mgcc: /var/folders/sj/lkcv2fm52491sv_04hq72cb80000gn/T/tmpknMN5X/src.macosx-10.6-x86_64-2.7/hellofortranmodule.c\u001b[0m\r\n"
       ]
      },
      {
       "output_type": "stream",
       "stream": "stdout",
       "text": [
        "In file included from /var/folders/sj/lkcv2fm52491sv_04hq72cb80000gn/T/tmpknMN5X/src.macosx-10.6-x86_64-2.7/hellofortranmodule.c:17:\r\n",
        "In file included from /var/folders/sj/lkcv2fm52491sv_04hq72cb80000gn/T/tmpknMN5X/src.macosx-10.6-x86_64-2.7/fortranobject.h:13:\r\n",
        "In file included from /Users/lrao/Library/Enthought/Canopy_64bit/User/lib/python2.7/site-packages/numpy/core/include/numpy/arrayobject.h:4:\r\n",
        "In file included from /Users/lrao/Library/Enthought/Canopy_64bit/User/lib/python2.7/site-packages/numpy/core/include/numpy/ndarrayobject.h:17:\r\n",
        "In file included from /Users/lrao/Library/Enthought/Canopy_64bit/User/lib/python2.7/site-packages/numpy/core/include/numpy/ndarraytypes.h:1761:\r\n",
        "/Users/lrao/Library/Enthought/Canopy_64bit/User/lib/python2.7/site-packages/numpy/core/include/numpy/npy_1_7_deprecated_api.h:15:2: warning: \"Using deprecated NumPy API, disable it by \"          \"#defining NPY_NO_DEPRECATED_API NPY_1_7_API_VERSION\" [-W#warnings]\r\n",
        "#warning \"Using deprecated NumPy API, disable it by \" \\\r\n",
        " ^\r\n"
       ]
      },
      {
       "output_type": "stream",
       "stream": "stdout",
       "text": [
        "1 warning generated.\r\n",
        "\u001b[39mcompiling Fortran sources\u001b[0m\r\n",
        "\u001b[39mFortran f77 compiler: /usr/local/bin/gfortran -Wall -ffixed-form -fno-second-underscore -arch x86_64 -fPIC -O3 -funroll-loops\r\n",
        "Fortran f90 compiler: /usr/local/bin/gfortran -Wall -fno-second-underscore -arch x86_64 -fPIC -O3 -funroll-loops\r\n",
        "Fortran fix compiler: /usr/local/bin/gfortran -Wall -ffixed-form -fno-second-underscore -Wall -fno-second-underscore -arch x86_64 -fPIC -O3 -funroll-loops\u001b[0m\r\n",
        "\u001b[39mcompile options: '-I/var/folders/sj/lkcv2fm52491sv_04hq72cb80000gn/T/tmpknMN5X/src.macosx-10.6-x86_64-2.7 -I/Users/lrao/Library/Enthought/Canopy_64bit/User/lib/python2.7/site-packages/numpy/core/include -I/Applications/Canopy.app/appdata/updates/ready/canopy-1.4.0.1938.macosx-x86_64/Canopy.app/Contents/include/python2.7 -c'\u001b[0m\r\n",
        "\u001b[39mgfortran:f77: hellofortran.f\u001b[0m\r\n"
       ]
      },
      {
       "output_type": "stream",
       "stream": "stdout",
       "text": [
        "\u001b[39m/usr/local/bin/gfortran -Wall -arch x86_64 -Wall -undefined dynamic_lookup -bundle /var/folders/sj/lkcv2fm52491sv_04hq72cb80000gn/T/tmpknMN5X/var/folders/sj/lkcv2fm52491sv_04hq72cb80000gn/T/tmpknMN5X/src.macosx-10.6-x86_64-2.7/hellofortranmodule.o /var/folders/sj/lkcv2fm52491sv_04hq72cb80000gn/T/tmpknMN5X/var/folders/sj/lkcv2fm52491sv_04hq72cb80000gn/T/tmpknMN5X/src.macosx-10.6-x86_64-2.7/fortranobject.o /var/folders/sj/lkcv2fm52491sv_04hq72cb80000gn/T/tmpknMN5X/hellofortran.o -L/usr/local/gfortran/lib/gcc/x86_64-apple-darwin13/4.9.0 -lgfortran -o ./hellofortran.so\u001b[0m\r\n"
       ]
      },
      {
       "output_type": "stream",
       "stream": "stdout",
       "text": [
        "Removing build directory /var/folders/sj/lkcv2fm52491sv_04hq72cb80000gn/T/tmpknMN5X\r\n"
       ]
      }
     ],
     "prompt_number": 6
    },
    {
     "cell_type": "markdown",
     "metadata": {},
     "source": [
      "Now we write a Python script which uses the module"
     ]
    },
    {
     "cell_type": "code",
     "collapsed": false,
     "input": [
      "%%file hello.py\n",
      "import hellofortran\n",
      "\n",
      "hellofortran.hellofortran(5)"
     ],
     "language": "python",
     "metadata": {},
     "outputs": [
      {
       "output_type": "stream",
       "stream": "stdout",
       "text": [
        "Overwriting hello.py\n"
       ]
      }
     ],
     "prompt_number": 7
    },
    {
     "cell_type": "code",
     "collapsed": false,
     "input": [
      "# run the script\n",
      "!python hello.py"
     ],
     "language": "python",
     "metadata": {},
     "outputs": [
      {
       "output_type": "stream",
       "stream": "stdout",
       "text": [
        " Fortran says hello\r\n",
        " Fortran says hello\r\n",
        " Fortran says hello\r\n",
        " Fortran says hello\r\n",
        " Fortran says hello\r\n",
        " Fortran says hello\r\n"
       ]
      }
     ],
     "prompt_number": 8
    },
    {
     "cell_type": "markdown",
     "metadata": {},
     "source": [
      "*Vector input , scalar output *"
     ]
    },
    {
     "cell_type": "code",
     "collapsed": false,
     "input": [
      "%%file dprod.f\n",
      "\n",
      "       subroutine dprod(x, y, n)\n",
      "    \n",
      "       double precision x(n), y\n",
      "       y = 1.0\n",
      "    \n",
      "       do 100 i=1, n\n",
      "           y = y * x(i)\n",
      "100    continue\n",
      "       end\n"
     ],
     "language": "python",
     "metadata": {},
     "outputs": [
      {
       "output_type": "stream",
       "stream": "stdout",
       "text": [
        "Overwriting dprod.f\n"
       ]
      }
     ],
     "prompt_number": 9
    },
    {
     "cell_type": "code",
     "collapsed": false,
     "input": [
      "!rm -f dprod.pyf\n",
      "!f2py -m dprod -h dprod.pyf dprod.f"
     ],
     "language": "python",
     "metadata": {},
     "outputs": [
      {
       "output_type": "stream",
       "stream": "stdout",
       "text": [
        "Reading fortran codes...\r\n",
        "\tReading file 'dprod.f' (format:fix,strict)\r\n",
        "Post-processing...\r\n",
        "\tBlock: dprod\r\n",
        "{}\r\n",
        "In: :dprod:dprod.f:dprod\r\n",
        "vars2fortran: No typespec for argument \"n\".\r\n",
        "\t\t\tBlock: dprod\r\n",
        "Post-processing (stage 2)...\r\n",
        "Saving signatures to file \"./dprod.pyf\"\r\n"
       ]
      }
     ],
     "prompt_number": 10
    },
    {
     "cell_type": "markdown",
     "metadata": {},
     "source": [
      "The f2py program generates a declaration file `dprod.pyf`"
     ]
    },
    {
     "cell_type": "code",
     "collapsed": true,
     "input": [
      "!cat dprod.pyf"
     ],
     "language": "python",
     "metadata": {},
     "outputs": [
      {
       "output_type": "stream",
       "stream": "stdout",
       "text": [
        "!    -*- f90 -*-\r\n",
        "! Note: the context of this file is case sensitive.\r\n",
        "\r\n",
        "python module dprod ! in \r\n",
        "    interface  ! in :dprod\r\n",
        "        subroutine dprod(x,y,n) ! in :dprod:dprod.f\r\n",
        "            double precision dimension(n) :: x\r\n",
        "            double precision :: y\r\n",
        "            integer, optional,check(len(x)>=n),depend(x) :: n=len(x)\r\n",
        "        end subroutine dprod\r\n",
        "    end interface \r\n",
        "end python module dprod\r\n",
        "\r\n",
        "! This file was auto-generated with f2py (version:2).\r\n",
        "! See http://cens.ioc.ee/projects/f2py2e/\r\n"
       ]
      }
     ],
     "prompt_number": 11
    },
    {
     "cell_type": "markdown",
     "metadata": {},
     "source": [
      "The module does not know what Fortran subroutine arguments is input and output, so we need to manually edit the module declaration files and mark output variables with intent(out) and input variable with intent(in):"
     ]
    },
    {
     "cell_type": "code",
     "collapsed": false,
     "input": [
      "%%file dprod.pyf\n",
      "python module dprod ! in \n",
      "    interface  ! in :dprod\n",
      "        subroutine dprod(x,y,n) ! in :dprod:dprod.f\n",
      "            double precision dimension(n), intent(in) :: x\n",
      "            double precision, intent(out) :: y\n",
      "            integer, optional,check(len(x)>=n),depend(x),intent(in) :: n=len(x)\n",
      "        end subroutine dprod\n",
      "    end interface \n",
      "end python module dprod"
     ],
     "language": "python",
     "metadata": {},
     "outputs": [
      {
       "output_type": "stream",
       "stream": "stdout",
       "text": [
        "Overwriting dprod.pyf\n"
       ]
      }
     ],
     "prompt_number": 12
    },
    {
     "cell_type": "code",
     "collapsed": false,
     "input": [
      "!f2py -c dprod.pyf dprod.f  #Compile the code which can be included in Python"
     ],
     "language": "python",
     "metadata": {},
     "outputs": [
      {
       "output_type": "stream",
       "stream": "stdout",
       "text": [
        "\u001b[39mrunning build\u001b[0m\r\n",
        "\u001b[39mrunning config_cc\u001b[0m\r\n",
        "\u001b[39munifing config_cc, config, build_clib, build_ext, build commands --compiler options\u001b[0m\r\n",
        "\u001b[39mrunning config_fc\u001b[0m\r\n",
        "\u001b[39munifing config_fc, config, build_clib, build_ext, build commands --fcompiler options\u001b[0m\r\n",
        "\u001b[39mrunning build_src\u001b[0m\r\n",
        "\u001b[39mbuild_src\u001b[0m\r\n",
        "\u001b[39mbuilding extension \"dprod\" sources\u001b[0m\r\n",
        "\u001b[39mcreating /var/folders/sj/lkcv2fm52491sv_04hq72cb80000gn/T/tmpALjlpk/src.macosx-10.6-x86_64-2.7\u001b[0m\r\n",
        "\u001b[39mf2py options: []\u001b[0m\r\n",
        "\u001b[39mf2py: dprod.pyf\u001b[0m\r\n",
        "Reading fortran codes...\r\n",
        "\tReading file 'dprod.pyf' (format:free)\r\n",
        "Post-processing...\r\n",
        "\tBlock: dprod\r\n",
        "\t\t\tBlock: dprod\r\n",
        "Post-processing (stage 2)...\r\n",
        "Building modules...\r\n",
        "\tBuilding module \"dprod\"...\r\n",
        "\t\tConstructing wrapper function \"dprod\"...\r\n"
       ]
      },
      {
       "output_type": "stream",
       "stream": "stdout",
       "text": [
        "\t\t  y = dprod(x,[n])\r\n",
        "\tWrote C/API module \"dprod\" to file \"/var/folders/sj/lkcv2fm52491sv_04hq72cb80000gn/T/tmpALjlpk/src.macosx-10.6-x86_64-2.7/dprodmodule.c\"\r\n",
        "\u001b[39m  adding '/var/folders/sj/lkcv2fm52491sv_04hq72cb80000gn/T/tmpALjlpk/src.macosx-10.6-x86_64-2.7/fortranobject.c' to sources.\u001b[0m\r\n",
        "\u001b[39m  adding '/var/folders/sj/lkcv2fm52491sv_04hq72cb80000gn/T/tmpALjlpk/src.macosx-10.6-x86_64-2.7' to include_dirs.\u001b[0m\r\n",
        "\u001b[39mcopying /Users/lrao/Library/Enthought/Canopy_64bit/User/lib/python2.7/site-packages/numpy/f2py/src/fortranobject.c -> /var/folders/sj/lkcv2fm52491sv_04hq72cb80000gn/T/tmpALjlpk/src.macosx-10.6-x86_64-2.7\u001b[0m\r\n",
        "\u001b[39mcopying /Users/lrao/Library/Enthought/Canopy_64bit/User/lib/python2.7/site-packages/numpy/f2py/src/fortranobject.h -> /var/folders/sj/lkcv2fm52491sv_04hq72cb80000gn/T/tmpALjlpk/src.macosx-10.6-x86_64-2.7\u001b[0m\r\n",
        "\u001b[39mbuild_src: building npy-pkg config files\u001b[0m\r\n",
        "\u001b[39mrunning build_ext\u001b[0m\r\n",
        "\u001b[39mcustomize UnixCCompiler\u001b[0m\r\n",
        "\u001b[39mcustomize UnixCCompiler using build_ext\u001b[0m\r\n"
       ]
      },
      {
       "output_type": "stream",
       "stream": "stdout",
       "text": [
        "\u001b[39mcustomize Gnu95FCompiler\u001b[0m\r\n",
        "\u001b[39mFound executable /usr/local/bin/gfortran\u001b[0m\r\n"
       ]
      },
      {
       "output_type": "stream",
       "stream": "stdout",
       "text": [
        "\u001b[39mcustomize Gnu95FCompiler\u001b[0m\r\n"
       ]
      },
      {
       "output_type": "stream",
       "stream": "stdout",
       "text": [
        "\u001b[39mcustomize Gnu95FCompiler using build_ext\u001b[0m\r\n",
        "\u001b[39mbuilding 'dprod' extension\u001b[0m\r\n",
        "\u001b[39mcompiling C sources\u001b[0m\r\n",
        "\u001b[39mC compiler: gcc -fno-strict-aliasing -fno-common -dynamic -arch x86_64 -DNDEBUG -g -O3 -arch x86_64\r\n",
        "\u001b[0m\r\n",
        "\u001b[39mcreating /var/folders/sj/lkcv2fm52491sv_04hq72cb80000gn/T/tmpALjlpk/var\u001b[0m\r\n",
        "\u001b[39mcreating /var/folders/sj/lkcv2fm52491sv_04hq72cb80000gn/T/tmpALjlpk/var/folders\u001b[0m\r\n",
        "\u001b[39mcreating /var/folders/sj/lkcv2fm52491sv_04hq72cb80000gn/T/tmpALjlpk/var/folders/sj\u001b[0m\r\n",
        "\u001b[39mcreating /var/folders/sj/lkcv2fm52491sv_04hq72cb80000gn/T/tmpALjlpk/var/folders/sj/lkcv2fm52491sv_04hq72cb80000gn\u001b[0m\r\n",
        "\u001b[39mcreating /var/folders/sj/lkcv2fm52491sv_04hq72cb80000gn/T/tmpALjlpk/var/folders/sj/lkcv2fm52491sv_04hq72cb80000gn/T\u001b[0m\r\n",
        "\u001b[39mcreating /var/folders/sj/lkcv2fm52491sv_04hq72cb80000gn/T/tmpALjlpk/var/folders/sj/lkcv2fm52491sv_04hq72cb80000gn/T/tmpALjlpk\u001b[0m\r\n",
        "\u001b[39mcreating /var/folders/sj/lkcv2fm52491sv_04hq72cb80000gn/T/tmpALjlpk/var/folders/sj/lkcv2fm52491sv_04hq72cb80000gn/T/tmpALjlpk/src.macosx-10.6-x86_64-2.7\u001b[0m\r\n",
        "\u001b[39mcompile options: '-I/var/folders/sj/lkcv2fm52491sv_04hq72cb80000gn/T/tmpALjlpk/src.macosx-10.6-x86_64-2.7 -I/Users/lrao/Library/Enthought/Canopy_64bit/User/lib/python2.7/site-packages/numpy/core/include -I/Applications/Canopy.app/appdata/updates/ready/canopy-1.4.0.1938.macosx-x86_64/Canopy.app/Contents/include/python2.7 -c'\u001b[0m\r\n",
        "\u001b[39mgcc: /var/folders/sj/lkcv2fm52491sv_04hq72cb80000gn/T/tmpALjlpk/src.macosx-10.6-x86_64-2.7/dprodmodule.c\u001b[0m\r\n"
       ]
      },
      {
       "output_type": "stream",
       "stream": "stdout",
       "text": [
        "In file included from /var/folders/sj/lkcv2fm52491sv_04hq72cb80000gn/T/tmpALjlpk/src.macosx-10.6-x86_64-2.7/dprodmodule.c:18:\r\n",
        "In file included from /var/folders/sj/lkcv2fm52491sv_04hq72cb80000gn/T/tmpALjlpk/src.macosx-10.6-x86_64-2.7/fortranobject.h:13:\r\n",
        "In file included from /Users/lrao/Library/Enthought/Canopy_64bit/User/lib/python2.7/site-packages/numpy/core/include/numpy/arrayobject.h:4:\r\n",
        "In file included from /Users/lrao/Library/Enthought/Canopy_64bit/User/lib/python2.7/site-packages/numpy/core/include/numpy/ndarrayobject.h:17:\r\n",
        "In file included from /Users/lrao/Library/Enthought/Canopy_64bit/User/lib/python2.7/site-packages/numpy/core/include/numpy/ndarraytypes.h:1761:\r\n",
        "/Users/lrao/Library/Enthought/Canopy_64bit/User/lib/python2.7/site-packages/numpy/core/include/numpy/npy_1_7_deprecated_api.h:15:2: warning: \"Using deprecated NumPy API, disable it by \"          \"#defining NPY_NO_DEPRECATED_API NPY_1_7_API_VERSION\" [-W#warnings]\r\n",
        "#warning \"Using deprecated NumPy API, disable it by \" \\\r\n",
        " ^\r\n",
        "1 warning generated.\r\n",
        "\u001b[39mgcc: /var/folders/sj/lkcv2fm52491sv_04hq72cb80000gn/T/tmpALjlpk/src.macosx-10.6-x86_64-2.7/fortranobject.c\u001b[0m\r\n"
       ]
      },
      {
       "output_type": "stream",
       "stream": "stdout",
       "text": [
        "In file included from /var/folders/sj/lkcv2fm52491sv_04hq72cb80000gn/T/tmpALjlpk/src.macosx-10.6-x86_64-2.7/fortranobject.c:2:\r\n",
        "In file included from /var/folders/sj/lkcv2fm52491sv_04hq72cb80000gn/T/tmpALjlpk/src.macosx-10.6-x86_64-2.7/fortranobject.h:13:\r\n",
        "In file included from /Users/lrao/Library/Enthought/Canopy_64bit/User/lib/python2.7/site-packages/numpy/core/include/numpy/arrayobject.h:4:\r\n",
        "In file included from /Users/lrao/Library/Enthought/Canopy_64bit/User/lib/python2.7/site-packages/numpy/core/include/numpy/ndarrayobject.h:17:\r\n",
        "In file included from /Users/lrao/Library/Enthought/Canopy_64bit/User/lib/python2.7/site-packages/numpy/core/include/numpy/ndarraytypes.h:1761:\r\n",
        "/Users/lrao/Library/Enthought/Canopy_64bit/User/lib/python2.7/site-packages/numpy/core/include/numpy/npy_1_7_deprecated_api.h:15:2: warning: \"Using deprecated NumPy API, disable it by \"          \"#defining NPY_NO_DEPRECATED_API NPY_1_7_API_VERSION\" [-W#warnings]\r\n",
        "#warning \"Using deprecated NumPy API, disable it by \" \\\r\n",
        " ^\r\n",
        "/var/folders/sj/lkcv2fm52491sv_04hq72cb80000gn/T/tmpALjlpk/src.macosx-10.6-x86_64-2.7/fortranobject.c:338:30: warning: equality comparison with extraneous parentheses [-Wparentheses-equality]\r\n",
        "        if ((fp->defs[i].func==NULL)) {\r\n",
        "             ~~~~~~~~~~~~~~~~^~~~~~\r\n",
        "/var/folders/sj/lkcv2fm52491sv_04hq72cb80000gn/T/tmpALjlpk/src.macosx-10.6-x86_64-2.7/fortranobject.c:338:30: note: remove extraneous parentheses around the comparison to silence this warning\r\n",
        "        if ((fp->defs[i].func==NULL)) {\r\n",
        "            ~                ^     ~\r\n",
        "/var/folders/sj/lkcv2fm52491sv_04hq72cb80000gn/T/tmpALjlpk/src.macosx-10.6-x86_64-2.7/fortranobject.c:338:30: note: use '=' to turn this equality comparison into an assignment\r\n",
        "        if ((fp->defs[i].func==NULL)) {\r\n",
        "                             ^~\r\n",
        "                             =\r\n"
       ]
      },
      {
       "output_type": "stream",
       "stream": "stdout",
       "text": [
        "2 warnings generated.\r\n",
        "\u001b[39mcompiling Fortran sources\u001b[0m\r\n",
        "\u001b[39mFortran f77 compiler: /usr/local/bin/gfortran -Wall -ffixed-form -fno-second-underscore -arch x86_64 -fPIC -O3 -funroll-loops\r\n",
        "Fortran f90 compiler: /usr/local/bin/gfortran -Wall -fno-second-underscore -arch x86_64 -fPIC -O3 -funroll-loops\r\n",
        "Fortran fix compiler: /usr/local/bin/gfortran -Wall -ffixed-form -fno-second-underscore -Wall -fno-second-underscore -arch x86_64 -fPIC -O3 -funroll-loops\u001b[0m\r\n",
        "\u001b[39mcompile options: '-I/var/folders/sj/lkcv2fm52491sv_04hq72cb80000gn/T/tmpALjlpk/src.macosx-10.6-x86_64-2.7 -I/Users/lrao/Library/Enthought/Canopy_64bit/User/lib/python2.7/site-packages/numpy/core/include -I/Applications/Canopy.app/appdata/updates/ready/canopy-1.4.0.1938.macosx-x86_64/Canopy.app/Contents/include/python2.7 -c'\u001b[0m\r\n",
        "\u001b[39mgfortran:f77: dprod.f\u001b[0m\r\n"
       ]
      },
      {
       "output_type": "stream",
       "stream": "stdout",
       "text": [
        "\u001b[39m/usr/local/bin/gfortran -Wall -arch x86_64 -Wall -undefined dynamic_lookup -bundle /var/folders/sj/lkcv2fm52491sv_04hq72cb80000gn/T/tmpALjlpk/var/folders/sj/lkcv2fm52491sv_04hq72cb80000gn/T/tmpALjlpk/src.macosx-10.6-x86_64-2.7/dprodmodule.o /var/folders/sj/lkcv2fm52491sv_04hq72cb80000gn/T/tmpALjlpk/var/folders/sj/lkcv2fm52491sv_04hq72cb80000gn/T/tmpALjlpk/src.macosx-10.6-x86_64-2.7/fortranobject.o /var/folders/sj/lkcv2fm52491sv_04hq72cb80000gn/T/tmpALjlpk/dprod.o -L/usr/local/gfortran/lib/gcc/x86_64-apple-darwin13/4.9.0 -lgfortran -o ./dprod.so\u001b[0m\r\n"
       ]
      },
      {
       "output_type": "stream",
       "stream": "stdout",
       "text": [
        "Removing build directory /var/folders/sj/lkcv2fm52491sv_04hq72cb80000gn/T/tmpALjlpk\r\n"
       ]
      }
     ],
     "prompt_number": 13
    },
    {
     "cell_type": "code",
     "collapsed": false,
     "input": [
      "import dprod #Using the module in Python"
     ],
     "language": "python",
     "metadata": {},
     "outputs": [],
     "prompt_number": 14
    },
    {
     "cell_type": "code",
     "collapsed": false,
     "input": [
      "help (dprod)"
     ],
     "language": "python",
     "metadata": {},
     "outputs": [
      {
       "output_type": "stream",
       "stream": "stdout",
       "text": [
        "Help on module dprod:\n",
        "\n",
        "NAME\n",
        "    dprod\n",
        "\n",
        "FILE\n",
        "    /Users/lrao/Documents/PythonTA/dprod.so\n",
        "\n",
        "DESCRIPTION\n",
        "    This module 'dprod' is auto-generated with f2py (version:2).\n",
        "    Functions:\n",
        "      y = dprod(x,n=len(x))\n",
        "    .\n",
        "\n",
        "DATA\n",
        "    __version__ = '$Revision: $'\n",
        "    dprod = <fortran object>\n",
        "\n",
        "VERSION\n",
        "\n",
        "\n",
        "\n"
       ]
      }
     ],
     "prompt_number": 15
    },
    {
     "cell_type": "code",
     "collapsed": false,
     "input": [
      "dprod.dprod(np.arange(1,50))"
     ],
     "language": "python",
     "metadata": {},
     "outputs": [
      {
       "metadata": {},
       "output_type": "pyout",
       "prompt_number": 16,
       "text": [
        "6.082818640342675e+62"
       ]
      }
     ],
     "prompt_number": 16
    },
    {
     "cell_type": "code",
     "collapsed": false,
     "input": [
      "np.prod(np.arange(1.0,50.0))"
     ],
     "language": "python",
     "metadata": {},
     "outputs": [
      {
       "metadata": {},
       "output_type": "pyout",
       "prompt_number": 17,
       "text": [
        "6.0828186403426752e+62"
       ]
      }
     ],
     "prompt_number": 17
    },
    {
     "cell_type": "markdown",
     "metadata": {},
     "source": [
      "Comparing the performance"
     ]
    },
    {
     "cell_type": "code",
     "collapsed": false,
     "input": [
      "xvec = np.random.rand(1000)"
     ],
     "language": "python",
     "metadata": {},
     "outputs": [],
     "prompt_number": 18
    },
    {
     "cell_type": "code",
     "collapsed": false,
     "input": [
      "timeit dprod.dprod(xvec)"
     ],
     "language": "python",
     "metadata": {},
     "outputs": [
      {
       "output_type": "stream",
       "stream": "stdout",
       "text": [
        "100000 loops, best of 3: 3.41 \u00b5s per loop\n"
       ]
      }
     ],
     "prompt_number": 19
    },
    {
     "cell_type": "code",
     "collapsed": false,
     "input": [
      "timeit xvec.prod()"
     ],
     "language": "python",
     "metadata": {},
     "outputs": [
      {
       "output_type": "stream",
       "stream": "stdout",
       "text": [
        "100000 loops, best of 3: 6.9 \u00b5s per loop\n"
       ]
      }
     ],
     "prompt_number": 20
    },
    {
     "cell_type": "markdown",
     "metadata": {},
     "source": [
      "##### Example:  Cumulative sum of an array\n",
      "\n",
      "The cumulative sum over data in an array is a loop-intensive algorithm and hence a good example to exploit the performance advantage in Fortran."
     ]
    },
    {
     "cell_type": "code",
     "collapsed": false,
     "input": [
      "# pure Python \n",
      "def py_dcumsum(a):\n",
      "    b = np.empty_like(a)\n",
      "    b[0] = a[0]\n",
      "    for n in range(1,len(a)):\n",
      "        b[n] = b[n-1]+a[n]\n",
      "    return b"
     ],
     "language": "python",
     "metadata": {},
     "outputs": [],
     "prompt_number": 21
    },
    {
     "cell_type": "code",
     "collapsed": false,
     "input": [
      "%%file dcumsum.f\n",
      "c File dcumsum.f\n",
      "       subroutine dcumsum(a, b, n)\n",
      "       double precision a(n)\n",
      "       double precision b(n)\n",
      "       integer n\n",
      "cf2py  intent(in) :: a\n",
      "cf2py  intent(out) :: b\n",
      "cf2py  intent(hide) :: n\n",
      "\n",
      "       b(1) = a(1)\n",
      "       do 100 i=2, n\n",
      "           b(i) = b(i-1) + a(i)\n",
      "100    continue\n",
      "       end"
     ],
     "language": "python",
     "metadata": {},
     "outputs": [
      {
       "output_type": "stream",
       "stream": "stdout",
       "text": [
        "Overwriting dcumsum.f\n"
       ]
      }
     ],
     "prompt_number": 22
    },
    {
     "cell_type": "code",
     "collapsed": false,
     "input": [
      "!f2py -c dcumsum.f -m dcumsum"
     ],
     "language": "python",
     "metadata": {},
     "outputs": [
      {
       "output_type": "stream",
       "stream": "stdout",
       "text": [
        "\u001b[39mrunning build\u001b[0m\r\n",
        "\u001b[39mrunning config_cc\u001b[0m\r\n",
        "\u001b[39munifing config_cc, config, build_clib, build_ext, build commands --compiler options\u001b[0m\r\n",
        "\u001b[39mrunning config_fc\u001b[0m\r\n",
        "\u001b[39munifing config_fc, config, build_clib, build_ext, build commands --fcompiler options\u001b[0m\r\n",
        "\u001b[39mrunning build_src\u001b[0m\r\n",
        "\u001b[39mbuild_src\u001b[0m\r\n",
        "\u001b[39mbuilding extension \"dcumsum\" sources\u001b[0m\r\n",
        "\u001b[39mf2py options: []\u001b[0m\r\n",
        "\u001b[39mf2py:> /var/folders/sj/lkcv2fm52491sv_04hq72cb80000gn/T/tmpl5K8vP/src.macosx-10.6-x86_64-2.7/dcumsummodule.c\u001b[0m\r\n",
        "\u001b[39mcreating /var/folders/sj/lkcv2fm52491sv_04hq72cb80000gn/T/tmpl5K8vP/src.macosx-10.6-x86_64-2.7\u001b[0m\r\n",
        "Reading fortran codes...\r\n",
        "\tReading file 'dcumsum.f' (format:fix,strict)\r\n",
        "Post-processing...\r\n",
        "\tBlock: dcumsum\r\n",
        "\t\t\tBlock: dcumsum\r\n",
        "Post-processing (stage 2)...\r\n",
        "Building modules...\r\n",
        "\tBuilding module \"dcumsum\"...\r\n",
        "\t\tConstructing wrapper function \"dcumsum\"...\r\n"
       ]
      },
      {
       "output_type": "stream",
       "stream": "stdout",
       "text": [
        "\t\t  b = dcumsum(a)\r\n",
        "\tWrote C/API module \"dcumsum\" to file \"/var/folders/sj/lkcv2fm52491sv_04hq72cb80000gn/T/tmpl5K8vP/src.macosx-10.6-x86_64-2.7/dcumsummodule.c\"\r\n",
        "\u001b[39m  adding '/var/folders/sj/lkcv2fm52491sv_04hq72cb80000gn/T/tmpl5K8vP/src.macosx-10.6-x86_64-2.7/fortranobject.c' to sources.\u001b[0m\r\n",
        "\u001b[39m  adding '/var/folders/sj/lkcv2fm52491sv_04hq72cb80000gn/T/tmpl5K8vP/src.macosx-10.6-x86_64-2.7' to include_dirs.\u001b[0m\r\n",
        "\u001b[39mcopying /Users/lrao/Library/Enthought/Canopy_64bit/User/lib/python2.7/site-packages/numpy/f2py/src/fortranobject.c -> /var/folders/sj/lkcv2fm52491sv_04hq72cb80000gn/T/tmpl5K8vP/src.macosx-10.6-x86_64-2.7\u001b[0m\r\n",
        "\u001b[39mcopying /Users/lrao/Library/Enthought/Canopy_64bit/User/lib/python2.7/site-packages/numpy/f2py/src/fortranobject.h -> /var/folders/sj/lkcv2fm52491sv_04hq72cb80000gn/T/tmpl5K8vP/src.macosx-10.6-x86_64-2.7\u001b[0m\r\n",
        "\u001b[39mbuild_src: building npy-pkg config files\u001b[0m\r\n",
        "\u001b[39mrunning build_ext\u001b[0m\r\n",
        "\u001b[39mcustomize UnixCCompiler\u001b[0m\r\n",
        "\u001b[39mcustomize UnixCCompiler using build_ext\u001b[0m\r\n"
       ]
      },
      {
       "output_type": "stream",
       "stream": "stdout",
       "text": [
        "\u001b[39mcustomize Gnu95FCompiler\u001b[0m\r\n",
        "\u001b[39mFound executable /usr/local/bin/gfortran\u001b[0m\r\n"
       ]
      },
      {
       "output_type": "stream",
       "stream": "stdout",
       "text": [
        "\u001b[39mcustomize Gnu95FCompiler\u001b[0m\r\n"
       ]
      },
      {
       "output_type": "stream",
       "stream": "stdout",
       "text": [
        "\u001b[39mcustomize Gnu95FCompiler using build_ext\u001b[0m\r\n",
        "\u001b[39mbuilding 'dcumsum' extension\u001b[0m\r\n",
        "\u001b[39mcompiling C sources\u001b[0m\r\n",
        "\u001b[39mC compiler: gcc -fno-strict-aliasing -fno-common -dynamic -arch x86_64 -DNDEBUG -g -O3 -arch x86_64\r\n",
        "\u001b[0m\r\n",
        "\u001b[39mcreating /var/folders/sj/lkcv2fm52491sv_04hq72cb80000gn/T/tmpl5K8vP/var\u001b[0m\r\n",
        "\u001b[39mcreating /var/folders/sj/lkcv2fm52491sv_04hq72cb80000gn/T/tmpl5K8vP/var/folders\u001b[0m\r\n",
        "\u001b[39mcreating /var/folders/sj/lkcv2fm52491sv_04hq72cb80000gn/T/tmpl5K8vP/var/folders/sj\u001b[0m\r\n",
        "\u001b[39mcreating /var/folders/sj/lkcv2fm52491sv_04hq72cb80000gn/T/tmpl5K8vP/var/folders/sj/lkcv2fm52491sv_04hq72cb80000gn\u001b[0m\r\n",
        "\u001b[39mcreating /var/folders/sj/lkcv2fm52491sv_04hq72cb80000gn/T/tmpl5K8vP/var/folders/sj/lkcv2fm52491sv_04hq72cb80000gn/T\u001b[0m\r\n",
        "\u001b[39mcreating /var/folders/sj/lkcv2fm52491sv_04hq72cb80000gn/T/tmpl5K8vP/var/folders/sj/lkcv2fm52491sv_04hq72cb80000gn/T/tmpl5K8vP\u001b[0m\r\n",
        "\u001b[39mcreating /var/folders/sj/lkcv2fm52491sv_04hq72cb80000gn/T/tmpl5K8vP/var/folders/sj/lkcv2fm52491sv_04hq72cb80000gn/T/tmpl5K8vP/src.macosx-10.6-x86_64-2.7\u001b[0m\r\n",
        "\u001b[39mcompile options: '-I/var/folders/sj/lkcv2fm52491sv_04hq72cb80000gn/T/tmpl5K8vP/src.macosx-10.6-x86_64-2.7 -I/Users/lrao/Library/Enthought/Canopy_64bit/User/lib/python2.7/site-packages/numpy/core/include -I/Applications/Canopy.app/appdata/updates/ready/canopy-1.4.0.1938.macosx-x86_64/Canopy.app/Contents/include/python2.7 -c'\u001b[0m\r\n",
        "\u001b[39mgcc: /var/folders/sj/lkcv2fm52491sv_04hq72cb80000gn/T/tmpl5K8vP/src.macosx-10.6-x86_64-2.7/fortranobject.c\u001b[0m\r\n"
       ]
      },
      {
       "output_type": "stream",
       "stream": "stdout",
       "text": [
        "In file included from /var/folders/sj/lkcv2fm52491sv_04hq72cb80000gn/T/tmpl5K8vP/src.macosx-10.6-x86_64-2.7/fortranobject.c:2:\r\n",
        "In file included from /var/folders/sj/lkcv2fm52491sv_04hq72cb80000gn/T/tmpl5K8vP/src.macosx-10.6-x86_64-2.7/fortranobject.h:13:\r\n",
        "In file included from /Users/lrao/Library/Enthought/Canopy_64bit/User/lib/python2.7/site-packages/numpy/core/include/numpy/arrayobject.h:4:\r\n",
        "In file included from /Users/lrao/Library/Enthought/Canopy_64bit/User/lib/python2.7/site-packages/numpy/core/include/numpy/ndarrayobject.h:17:\r\n",
        "In file included from /Users/lrao/Library/Enthought/Canopy_64bit/User/lib/python2.7/site-packages/numpy/core/include/numpy/ndarraytypes.h:1761:\r\n",
        "/Users/lrao/Library/Enthought/Canopy_64bit/User/lib/python2.7/site-packages/numpy/core/include/numpy/npy_1_7_deprecated_api.h:15:2: warning: \"Using deprecated NumPy API, disable it by \"          \"#defining NPY_NO_DEPRECATED_API NPY_1_7_API_VERSION\" [-W#warnings]\r\n",
        "#warning \"Using deprecated NumPy API, disable it by \" \\\r\n",
        " ^\r\n",
        "/var/folders/sj/lkcv2fm52491sv_04hq72cb80000gn/T/tmpl5K8vP/src.macosx-10.6-x86_64-2.7/fortranobject.c:338:30: warning: equality comparison with extraneous parentheses [-Wparentheses-equality]\r\n",
        "        if ((fp->defs[i].func==NULL)) {\r\n",
        "             ~~~~~~~~~~~~~~~~^~~~~~\r\n",
        "/var/folders/sj/lkcv2fm52491sv_04hq72cb80000gn/T/tmpl5K8vP/src.macosx-10.6-x86_64-2.7/fortranobject.c:338:30: note: remove extraneous parentheses around the comparison to silence this warning\r\n",
        "        if ((fp->defs[i].func==NULL)) {\r\n",
        "            ~                ^     ~\r\n",
        "/var/folders/sj/lkcv2fm52491sv_04hq72cb80000gn/T/tmpl5K8vP/src.macosx-10.6-x86_64-2.7/fortranobject.c:338:30: note: use '=' to turn this equality comparison into an assignment\r\n",
        "        if ((fp->defs[i].func==NULL)) {\r\n",
        "                             ^~\r\n",
        "                             =\r\n"
       ]
      },
      {
       "output_type": "stream",
       "stream": "stdout",
       "text": [
        "2 warnings generated.\r\n",
        "\u001b[39mgcc: /var/folders/sj/lkcv2fm52491sv_04hq72cb80000gn/T/tmpl5K8vP/src.macosx-10.6-x86_64-2.7/dcumsummodule.c\u001b[0m\r\n"
       ]
      },
      {
       "output_type": "stream",
       "stream": "stdout",
       "text": [
        "In file included from /var/folders/sj/lkcv2fm52491sv_04hq72cb80000gn/T/tmpl5K8vP/src.macosx-10.6-x86_64-2.7/dcumsummodule.c:18:\r\n",
        "In file included from /var/folders/sj/lkcv2fm52491sv_04hq72cb80000gn/T/tmpl5K8vP/src.macosx-10.6-x86_64-2.7/fortranobject.h:13:\r\n",
        "In file included from /Users/lrao/Library/Enthought/Canopy_64bit/User/lib/python2.7/site-packages/numpy/core/include/numpy/arrayobject.h:4:\r\n",
        "In file included from /Users/lrao/Library/Enthought/Canopy_64bit/User/lib/python2.7/site-packages/numpy/core/include/numpy/ndarrayobject.h:17:\r\n",
        "In file included from /Users/lrao/Library/Enthought/Canopy_64bit/User/lib/python2.7/site-packages/numpy/core/include/numpy/ndarraytypes.h:1761:\r\n",
        "/Users/lrao/Library/Enthought/Canopy_64bit/User/lib/python2.7/site-packages/numpy/core/include/numpy/npy_1_7_deprecated_api.h:15:2: warning: \"Using deprecated NumPy API, disable it by \"          \"#defining NPY_NO_DEPRECATED_API NPY_1_7_API_VERSION\" [-W#warnings]\r\n",
        "#warning \"Using deprecated NumPy API, disable it by \" \\\r\n",
        " ^\r\n"
       ]
      },
      {
       "output_type": "stream",
       "stream": "stdout",
       "text": [
        "1 warning generated.\r\n",
        "\u001b[39mcompiling Fortran sources\u001b[0m\r\n",
        "\u001b[39mFortran f77 compiler: /usr/local/bin/gfortran -Wall -ffixed-form -fno-second-underscore -arch x86_64 -fPIC -O3 -funroll-loops\r\n",
        "Fortran f90 compiler: /usr/local/bin/gfortran -Wall -fno-second-underscore -arch x86_64 -fPIC -O3 -funroll-loops\r\n",
        "Fortran fix compiler: /usr/local/bin/gfortran -Wall -ffixed-form -fno-second-underscore -Wall -fno-second-underscore -arch x86_64 -fPIC -O3 -funroll-loops\u001b[0m\r\n",
        "\u001b[39mcompile options: '-I/var/folders/sj/lkcv2fm52491sv_04hq72cb80000gn/T/tmpl5K8vP/src.macosx-10.6-x86_64-2.7 -I/Users/lrao/Library/Enthought/Canopy_64bit/User/lib/python2.7/site-packages/numpy/core/include -I/Applications/Canopy.app/appdata/updates/ready/canopy-1.4.0.1938.macosx-x86_64/Canopy.app/Contents/include/python2.7 -c'\u001b[0m\r\n",
        "\u001b[39mgfortran:f77: dcumsum.f\u001b[0m\r\n"
       ]
      },
      {
       "output_type": "stream",
       "stream": "stdout",
       "text": [
        "\u001b[39m/usr/local/bin/gfortran -Wall -arch x86_64 -Wall -undefined dynamic_lookup -bundle /var/folders/sj/lkcv2fm52491sv_04hq72cb80000gn/T/tmpl5K8vP/var/folders/sj/lkcv2fm52491sv_04hq72cb80000gn/T/tmpl5K8vP/src.macosx-10.6-x86_64-2.7/dcumsummodule.o /var/folders/sj/lkcv2fm52491sv_04hq72cb80000gn/T/tmpl5K8vP/var/folders/sj/lkcv2fm52491sv_04hq72cb80000gn/T/tmpl5K8vP/src.macosx-10.6-x86_64-2.7/fortranobject.o /var/folders/sj/lkcv2fm52491sv_04hq72cb80000gn/T/tmpl5K8vP/dcumsum.o -L/usr/local/gfortran/lib/gcc/x86_64-apple-darwin13/4.9.0 -lgfortran -o ./dcumsum.so\u001b[0m\r\n"
       ]
      },
      {
       "output_type": "stream",
       "stream": "stdout",
       "text": [
        "Removing build directory /var/folders/sj/lkcv2fm52491sv_04hq72cb80000gn/T/tmpl5K8vP\r\n"
       ]
      }
     ],
     "prompt_number": 23
    },
    {
     "cell_type": "code",
     "collapsed": false,
     "input": [
      "import dcumsum\n",
      "\n",
      "a = np.array([1.0,2.0,3.0,4.0,5.0,6.0,7.0,8.0])"
     ],
     "language": "python",
     "metadata": {},
     "outputs": [],
     "prompt_number": 24
    },
    {
     "cell_type": "code",
     "collapsed": false,
     "input": [
      "py_dcumsum(a)"
     ],
     "language": "python",
     "metadata": {},
     "outputs": [
      {
       "metadata": {},
       "output_type": "pyout",
       "prompt_number": 25,
       "text": [
        "array([  1.,   3.,   6.,  10.,  15.,  21.,  28.,  36.])"
       ]
      }
     ],
     "prompt_number": 25
    },
    {
     "cell_type": "code",
     "collapsed": false,
     "input": [
      "dcumsum.dcumsum(a)"
     ],
     "language": "python",
     "metadata": {},
     "outputs": [
      {
       "metadata": {},
       "output_type": "pyout",
       "prompt_number": 26,
       "text": [
        "array([  1.,   3.,   6.,  10.,  15.,  21.,  28.,  36.])"
       ]
      }
     ],
     "prompt_number": 26
    },
    {
     "cell_type": "code",
     "collapsed": false,
     "input": [
      "a = np.random.rand(10000)"
     ],
     "language": "python",
     "metadata": {},
     "outputs": [],
     "prompt_number": 27
    },
    {
     "cell_type": "code",
     "collapsed": false,
     "input": [
      "timeit py_dcumsum(a)"
     ],
     "language": "python",
     "metadata": {},
     "outputs": [
      {
       "output_type": "stream",
       "stream": "stdout",
       "text": [
        "100 loops, best of 3: 7.63 ms per loop\n"
       ]
      }
     ],
     "prompt_number": 28
    },
    {
     "cell_type": "code",
     "collapsed": false,
     "input": [
      "timeit dcumsum.dcumsum(a)"
     ],
     "language": "python",
     "metadata": {},
     "outputs": [
      {
       "output_type": "stream",
       "stream": "stdout",
       "text": [
        "100000 loops, best of 3: 13.8 \u00b5s per loop\n"
       ]
      }
     ],
     "prompt_number": 29
    },
    {
     "cell_type": "markdown",
     "metadata": {},
     "source": [
      "---\n",
      "<a id='c'></a>\n",
      "## C\n",
      "\n",
      "Now we move on to a more intuitive\u2014or at least familiar\u2014language C.  C is often called a _mid-level_ or _systems_ programming language.  This is not a reflection on its lack of programming power but more a reflection on its capability to access the system's low level functions.  It wins on the performance aspect and also on the not-as-ludicrously-obscure-as-Fortran aspect.\n",
      "\n",
      "Despite its increased ease of use as opposed to FORTRAN, it still requires quite a bit of detail with respect to data types, functions, data structures etc.  Python still involves less human time than C does.  So, we benefit from gluing C and Python together."
     ]
    },
    {
     "cell_type": "markdown",
     "metadata": {},
     "source": [
      "---\n",
      "<a id='intro-c'></a>\n",
      "#### A Brief Introduction to C\n",
      "\n",
      "##### Data Types\n",
      "\n",
      "- `int`\u2014integer.\n",
      "- `float`\u2014floating point value:  _i.e._, a number with a fractional part.\n",
      "- `double`\u2014a double-precision floating point value.\n",
      "- `char`\u2014a single character.\n",
      "- `void`\u2014a valueless special-purpose type.\n",
      "\n",
      "##### Input/Output Functions\n",
      "\n",
      "- [`printf`](http://www.cplusplus.com/reference/cstdio/printf/)\u2014Output formatted string.\n",
      "- [`scanf`](http://www.cplusplus.com/reference/cstdio/scanf/)\u2014Input stream (until Return pressed).\n",
      "- [`getchar`](http://www.cplusplus.com/reference/cstdio/getchar/)\u2014Input single character.\n",
      "\n",
      "##### A Simple Program in C\n",
      "(This program should be run at the command line; `getchar`-based input is not currently supported in the IPython notebook interface.)\n",
      "\n",
      "Salient features of this program include the `#include` statement, the `int` return type of the `main` function, and the use of `{` and `}` to delimit a block of code."
     ]
    },
    {
     "cell_type": "code",
     "collapsed": false,
     "input": [
      "%%file test.c\n",
      "#include <stdio.h>\n",
      "int main() {\n",
      "    printf( \"Happy Halloween! \\n\" );\n",
      "    getchar();\n",
      "    return 0;\n",
      "}"
     ],
     "language": "python",
     "metadata": {},
     "outputs": []
    },
    {
     "cell_type": "code",
     "collapsed": false,
     "input": [
      "!gcc -o test test.c"
     ],
     "language": "python",
     "metadata": {},
     "outputs": []
    },
    {
     "cell_type": "code",
     "collapsed": false,
     "input": [
      "!./test"
     ],
     "language": "python",
     "metadata": {},
     "outputs": []
    },
    {
     "cell_type": "markdown",
     "metadata": {},
     "source": [
      "##### Arrays\n",
      "    int some_array[5];\n",
      "declares an array of five elements."
     ]
    },
    {
     "cell_type": "markdown",
     "metadata": {},
     "source": [
      "###### Example:  Array Summation\n",
      "\n",
      "    int sum_values_of_array(int all_nums[]) {\n",
      "        int i, sum=0;\n",
      "        for(i = 0; i<5; i++)\n",
      "            sum = sum + all_nums[i];\n",
      "        return sum;\n",
      "    }"
     ]
    },
    {
     "cell_type": "markdown",
     "metadata": {},
     "source": [
      "---\n",
      "<a id='ctypes'></a>\n",
      "#### `ctypes`\n",
      "\n",
      "[`ctypes`](https://docs.python.org/3/library/ctypes.html) is a Python library for calling out to C libraries.  It is not as automatic as F2PY, and we manually need to load the library and set properties such as the function argument and return types.  On the other hand, we do not need to touch the C code at all."
     ]
    },
    {
     "cell_type": "code",
     "collapsed": false,
     "input": [
      "import ctypes\n",
      "ctypes.cdll.LoadLibrary(\"libc.so.6\")\n",
      "libc = ctypes.CDLL(\"libc.so.6\")\n",
      "libc.printf"
     ],
     "language": "python",
     "metadata": {},
     "outputs": [
      {
       "ename": "OSError",
       "evalue": "dlopen(libc.so.6, 6): image not found",
       "output_type": "pyerr",
       "traceback": [
        "\u001b[0;31m---------------------------------------------------------------------------\u001b[0m\n\u001b[0;31mOSError\u001b[0m                                   Traceback (most recent call last)",
        "\u001b[0;32m<ipython-input-30-1380e5270232>\u001b[0m in \u001b[0;36m<module>\u001b[0;34m()\u001b[0m\n\u001b[1;32m      1\u001b[0m \u001b[0;32mimport\u001b[0m \u001b[0mctypes\u001b[0m\u001b[0;34m\u001b[0m\u001b[0m\n\u001b[0;32m----> 2\u001b[0;31m \u001b[0mctypes\u001b[0m\u001b[0;34m.\u001b[0m\u001b[0mcdll\u001b[0m\u001b[0;34m.\u001b[0m\u001b[0mLoadLibrary\u001b[0m\u001b[0;34m(\u001b[0m\u001b[0;34m\"libc.so.6\"\u001b[0m\u001b[0;34m)\u001b[0m\u001b[0;34m\u001b[0m\u001b[0m\n\u001b[0m\u001b[1;32m      3\u001b[0m \u001b[0mlibc\u001b[0m \u001b[0;34m=\u001b[0m \u001b[0mctypes\u001b[0m\u001b[0;34m.\u001b[0m\u001b[0mCDLL\u001b[0m\u001b[0;34m(\u001b[0m\u001b[0;34m\"libc.so.6\"\u001b[0m\u001b[0;34m)\u001b[0m\u001b[0;34m\u001b[0m\u001b[0m\n\u001b[1;32m      4\u001b[0m \u001b[0mlibc\u001b[0m\u001b[0;34m.\u001b[0m\u001b[0mprintf\u001b[0m\u001b[0;34m\u001b[0m\u001b[0m\n",
        "\u001b[0;32m/Applications/Canopy.app/appdata/updates/ready/canopy-1.4.0.1938.macosx-x86_64/Canopy.app/Contents/lib/python2.7/ctypes/__init__.pyc\u001b[0m in \u001b[0;36mLoadLibrary\u001b[0;34m(self, name)\u001b[0m\n\u001b[1;32m    441\u001b[0m \u001b[0;34m\u001b[0m\u001b[0m\n\u001b[1;32m    442\u001b[0m     \u001b[0;32mdef\u001b[0m \u001b[0mLoadLibrary\u001b[0m\u001b[0;34m(\u001b[0m\u001b[0mself\u001b[0m\u001b[0;34m,\u001b[0m \u001b[0mname\u001b[0m\u001b[0;34m)\u001b[0m\u001b[0;34m:\u001b[0m\u001b[0;34m\u001b[0m\u001b[0m\n\u001b[0;32m--> 443\u001b[0;31m         \u001b[0;32mreturn\u001b[0m \u001b[0mself\u001b[0m\u001b[0;34m.\u001b[0m\u001b[0m_dlltype\u001b[0m\u001b[0;34m(\u001b[0m\u001b[0mname\u001b[0m\u001b[0;34m)\u001b[0m\u001b[0;34m\u001b[0m\u001b[0m\n\u001b[0m\u001b[1;32m    444\u001b[0m \u001b[0;34m\u001b[0m\u001b[0m\n\u001b[1;32m    445\u001b[0m \u001b[0mcdll\u001b[0m \u001b[0;34m=\u001b[0m \u001b[0mLibraryLoader\u001b[0m\u001b[0;34m(\u001b[0m\u001b[0mCDLL\u001b[0m\u001b[0;34m)\u001b[0m\u001b[0;34m\u001b[0m\u001b[0m\n",
        "\u001b[0;32m/Applications/Canopy.app/appdata/updates/ready/canopy-1.4.0.1938.macosx-x86_64/Canopy.app/Contents/lib/python2.7/ctypes/__init__.pyc\u001b[0m in \u001b[0;36m__init__\u001b[0;34m(self, name, mode, handle, use_errno, use_last_error)\u001b[0m\n\u001b[1;32m    363\u001b[0m \u001b[0;34m\u001b[0m\u001b[0m\n\u001b[1;32m    364\u001b[0m         \u001b[0;32mif\u001b[0m \u001b[0mhandle\u001b[0m \u001b[0;32mis\u001b[0m \u001b[0mNone\u001b[0m\u001b[0;34m:\u001b[0m\u001b[0;34m\u001b[0m\u001b[0m\n\u001b[0;32m--> 365\u001b[0;31m             \u001b[0mself\u001b[0m\u001b[0;34m.\u001b[0m\u001b[0m_handle\u001b[0m \u001b[0;34m=\u001b[0m \u001b[0m_dlopen\u001b[0m\u001b[0;34m(\u001b[0m\u001b[0mself\u001b[0m\u001b[0;34m.\u001b[0m\u001b[0m_name\u001b[0m\u001b[0;34m,\u001b[0m \u001b[0mmode\u001b[0m\u001b[0;34m)\u001b[0m\u001b[0;34m\u001b[0m\u001b[0m\n\u001b[0m\u001b[1;32m    366\u001b[0m         \u001b[0;32melse\u001b[0m\u001b[0;34m:\u001b[0m\u001b[0;34m\u001b[0m\u001b[0m\n\u001b[1;32m    367\u001b[0m             \u001b[0mself\u001b[0m\u001b[0;34m.\u001b[0m\u001b[0m_handle\u001b[0m \u001b[0;34m=\u001b[0m \u001b[0mhandle\u001b[0m\u001b[0;34m\u001b[0m\u001b[0m\n",
        "\u001b[0;31mOSError\u001b[0m: dlopen(libc.so.6, 6): image not found"
       ]
      }
     ],
     "prompt_number": 30
    },
    {
     "cell_type": "code",
     "collapsed": false,
     "input": [
      "print(libc.time(None)) "
     ],
     "language": "python",
     "metadata": {},
     "outputs": [
      {
       "ename": "NameError",
       "evalue": "name 'libc' is not defined",
       "output_type": "pyerr",
       "traceback": [
        "\u001b[0;31m---------------------------------------------------------------------------\u001b[0m\n\u001b[0;31mNameError\u001b[0m                                 Traceback (most recent call last)",
        "\u001b[0;32m<ipython-input-31-83b3c7cc197a>\u001b[0m in \u001b[0;36m<module>\u001b[0;34m()\u001b[0m\n\u001b[0;32m----> 1\u001b[0;31m \u001b[0;32mprint\u001b[0m\u001b[0;34m(\u001b[0m\u001b[0mlibc\u001b[0m\u001b[0;34m.\u001b[0m\u001b[0mtime\u001b[0m\u001b[0;34m(\u001b[0m\u001b[0mNone\u001b[0m\u001b[0;34m)\u001b[0m\u001b[0;34m)\u001b[0m\u001b[0;34m\u001b[0m\u001b[0m\n\u001b[0m",
        "\u001b[0;31mNameError\u001b[0m: name 'libc' is not defined"
       ]
      }
     ],
     "prompt_number": 31
    },
    {
     "cell_type": "markdown",
     "metadata": {},
     "source": [
      "---"
     ]
    },
    {
     "cell_type": "code",
     "collapsed": false,
     "input": [
      "%%file functions.c\n",
      "\n",
      "#include <stdio.h>\n",
      "\n",
      "void hello(int n);\n",
      "\n",
      "double dprod(double *x, int n);\n",
      "\n",
      "void dcumsum(double *a, double *b, int n);\n",
      "\n",
      "void\n",
      "hello(int n)\n",
      "{\n",
      "    int i;\n",
      "    \n",
      "    for (i = 0; i < n; i++)\n",
      "    {\n",
      "        printf(\"C says hello\\n\");\n",
      "    }\n",
      "}\n",
      "\n",
      "\n",
      "double \n",
      "dprod(double *x, int n)\n",
      "{\n",
      "    int i;\n",
      "    double y = 1.0;\n",
      "    \n",
      "    for (i = 0; i < n; i++)\n",
      "    {\n",
      "        y *= x[i];\n",
      "    }\n",
      "\n",
      "    return y;\n",
      "}\n",
      "\n",
      "void\n",
      "dcumsum(double *a, double *b, int n)\n",
      "{\n",
      "    int i;\n",
      "    \n",
      "    b[0] = a[0];\n",
      "    for (i = 1; i < n; i++)\n",
      "    {\n",
      "        b[i] = a[i] + b[i-1];\n",
      "    }\n",
      "}"
     ],
     "language": "python",
     "metadata": {},
     "outputs": [
      {
       "output_type": "stream",
       "stream": "stdout",
       "text": [
        "Overwriting functions.c\n"
       ]
      }
     ],
     "prompt_number": 32
    },
    {
     "cell_type": "markdown",
     "metadata": {},
     "source": [
      "Compiling the C code"
     ]
    },
    {
     "cell_type": "code",
     "collapsed": false,
     "input": [
      "!gcc -c -Wall -O2 -Wall -ansi -pedantic -fPIC -o functions.o functions.c\n",
      "!gcc -o libfunctions.so -shared functions.o"
     ],
     "language": "python",
     "metadata": {},
     "outputs": [
      {
       "output_type": "stream",
       "stream": "stdout",
       "text": [
        "\u001b[1mfunctions.c:46:2: \u001b[0m\u001b[0;1;35mwarning: \u001b[0m\u001b[1mno newline at end of file [-Wnewline-eof]\u001b[0m\r\n",
        "}\r\n",
        "\u001b[0;1;32m ^\r\n",
        "\u001b[0m1 warning generated.\r\n"
       ]
      }
     ],
     "prompt_number": 33
    },
    {
     "cell_type": "code",
     "collapsed": false,
     "input": [
      "!file libfunctions.so"
     ],
     "language": "python",
     "metadata": {},
     "outputs": [
      {
       "output_type": "stream",
       "stream": "stdout",
       "text": [
        "libfunctions.so: Mach-O 64-bit dynamically linked shared library x86_64\r\n"
       ]
      }
     ],
     "prompt_number": 34
    },
    {
     "cell_type": "markdown",
     "metadata": {},
     "source": [
      "Now we need to write wrapper functions to access the C library: To load the library we use the ctypes package, which included in the Python standard library (with extensions from numpy for passing arrays to C). Then we manually set the types of the argument and return values (no automatic code inspection here!). "
     ]
    },
    {
     "cell_type": "code",
     "collapsed": false,
     "input": [
      "%%file functions.py\n",
      "\n",
      "import numpy\n",
      "import ctypes\n",
      "\n",
      "_libfunctions = numpy.ctypeslib.load_library('libfunctions', '.')\n",
      "\n",
      "_libfunctions.hello.argtypes = [ctypes.c_int]\n",
      "_libfunctions.hello.restype  =  ctypes.c_void_p\n",
      "\n",
      "_libfunctions.dprod.argtypes = [numpy.ctypeslib.ndpointer(dtype=numpy.float), ctypes.c_int]\n",
      "_libfunctions.dprod.restype  = ctypes.c_double\n",
      "\n",
      "_libfunctions.dcumsum.argtypes = [numpy.ctypeslib.ndpointer(dtype=numpy.float), numpy.ctypeslib.ndpointer(dtype=numpy.float), ctypes.c_int]\n",
      "_libfunctions.dcumsum.restype  = ctypes.c_void_p\n",
      "\n",
      "def hello(n):\n",
      "    return _libfunctions.hello(int(n))\n",
      "\n",
      "def dprod(x, n=None):\n",
      "    if n is None:\n",
      "        n = len(x)\n",
      "    x = numpy.asarray(x, dtype=numpy.float)\n",
      "    return _libfunctions.dprod(x, int(n))\n",
      "\n",
      "def dcumsum(a, n):\n",
      "    a = numpy.asarray(a, dtype=numpy.float)\n",
      "    b = numpy.empty(len(a), dtype=numpy.float)\n",
      "    _libfunctions.dcumsum(a, b, int(n))\n",
      "    return b"
     ],
     "language": "python",
     "metadata": {},
     "outputs": [
      {
       "output_type": "stream",
       "stream": "stdout",
       "text": [
        "Overwriting functions.py\n"
       ]
      }
     ],
     "prompt_number": 35
    },
    {
     "cell_type": "code",
     "collapsed": false,
     "input": [
      "%%file run_hello_c.py\n",
      "\n",
      "import functions\n",
      "\n",
      "functions.hello(3)"
     ],
     "language": "python",
     "metadata": {},
     "outputs": [
      {
       "output_type": "stream",
       "stream": "stdout",
       "text": [
        "Overwriting run_hello_c.py\n"
       ]
      }
     ],
     "prompt_number": 36
    },
    {
     "cell_type": "code",
     "collapsed": false,
     "input": [
      "!python run_hello_c.py"
     ],
     "language": "python",
     "metadata": {},
     "outputs": [
      {
       "output_type": "stream",
       "stream": "stdout",
       "text": [
        "C says hello\r\n",
        "C says hello\r\n",
        "C says hello\r\n"
       ]
      }
     ],
     "prompt_number": 37
    },
    {
     "cell_type": "code",
     "collapsed": false,
     "input": [
      "import functions"
     ],
     "language": "python",
     "metadata": {},
     "outputs": [],
     "prompt_number": 38
    },
    {
     "cell_type": "code",
     "collapsed": false,
     "input": [
      "functions.dprod([1,2,3,4,5]) #product"
     ],
     "language": "python",
     "metadata": {},
     "outputs": [
      {
       "metadata": {},
       "output_type": "pyout",
       "prompt_number": 39,
       "text": [
        "120.0"
       ]
      }
     ],
     "prompt_number": 39
    },
    {
     "cell_type": "code",
     "collapsed": false,
     "input": [
      "a = np.random.rand(100000)"
     ],
     "language": "python",
     "metadata": {},
     "outputs": [],
     "prompt_number": 40
    },
    {
     "cell_type": "code",
     "collapsed": false,
     "input": [
      "res_c = functions.dcumsum(a, len(a)) "
     ],
     "language": "python",
     "metadata": {},
     "outputs": [],
     "prompt_number": 41
    },
    {
     "cell_type": "code",
     "collapsed": false,
     "input": [
      "res_fortran = dcumsum.dcumsum(a)"
     ],
     "language": "python",
     "metadata": {},
     "outputs": [],
     "prompt_number": 42
    },
    {
     "cell_type": "code",
     "collapsed": false,
     "input": [
      "res_c - res_fortran"
     ],
     "language": "python",
     "metadata": {},
     "outputs": [
      {
       "metadata": {},
       "output_type": "pyout",
       "prompt_number": 43,
       "text": [
        "array([ 0.,  0.,  0., ...,  0.,  0.,  0.])"
       ]
      }
     ],
     "prompt_number": 43
    },
    {
     "cell_type": "markdown",
     "metadata": {},
     "source": [
      "###### Timing"
     ]
    },
    {
     "cell_type": "code",
     "collapsed": false,
     "input": [
      "timeit functions.dcumsum(a, len(a))"
     ],
     "language": "python",
     "metadata": {},
     "outputs": [
      {
       "output_type": "stream",
       "stream": "stdout",
       "text": [
        "1000 loops, best of 3: 143 \u00b5s per loop\n"
       ]
      }
     ],
     "prompt_number": 44
    },
    {
     "cell_type": "code",
     "collapsed": false,
     "input": [
      "timeit dcumsum.dcumsum(a)"
     ],
     "language": "python",
     "metadata": {},
     "outputs": [
      {
       "output_type": "stream",
       "stream": "stdout",
       "text": [
        "1000 loops, best of 3: 147 \u00b5s per loop\n"
       ]
      }
     ],
     "prompt_number": 45
    },
    {
     "cell_type": "code",
     "collapsed": false,
     "input": [
      "timeit a.cumsum()"
     ],
     "language": "python",
     "metadata": {},
     "outputs": [
      {
       "output_type": "stream",
       "stream": "stdout",
       "text": [
        "1000 loops, best of 3: 326 \u00b5s per loop\n"
       ]
      }
     ],
     "prompt_number": 46
    },
    {
     "cell_type": "markdown",
     "metadata": {},
     "source": [
      "---\n",
      "<a id='ctypes'></a>\n",
      "#### Weave\n",
      "\n",
      "[Weave](http://docs.scipy.org/doc/scipy-0.14.0/reference/tutorial/weave.html) essentially does for C/C++ what F2PY does for Fortran:  we can use data stored in NumPy `ndarray`s with C/C++ code for mission-critical performance.  (For instance, C can unroll loops or recurse faster than Python.)"
     ]
    },
    {
     "cell_type": "markdown",
     "metadata": {},
     "source": [
      "##### Example:  Laplace Equation\n",
      "\n",
      "Consider solving the Laplace equation $\\nabla^2 u = 0$ over a square grid ([source](http://technicaldiscovery.blogspot.com/2011/06/speeding-up-python-numpy-cython-and.html)).  The pure Python version follows:"
     ]
    },
    {
     "cell_type": "code",
     "collapsed": false,
     "input": [
      "from numpy import zeros\n",
      "from scipy import weave\n",
      "\n",
      "dx = 0.1\n",
      "dy = 0.1\n",
      "dx2 = dx*dx\n",
      "dy2 = dy*dy\n",
      "\n",
      "def py_update(u):\n",
      "    nx, ny = u.shape\n",
      "    for i in xrange(1,nx-1):\n",
      "        for j in xrange(1, ny-1):\n",
      "            u[i,j] = ((u[i+1, j] + u[i-1, j]) * dy2 +\n",
      "                      (u[i, j+1] + u[i, j-1]) * dx2) / (2*(dx2+dy2))\n",
      "\n",
      "def calc(N, Niter=100, func=py_update, args=()):\n",
      "    u = zeros([N, N])\n",
      "    u[0] = 1\n",
      "    for i in range(Niter):\n",
      "        func(u,*args)\n",
      "    return u"
     ],
     "language": "python",
     "metadata": {},
     "outputs": [],
     "prompt_number": 47
    },
    {
     "cell_type": "code",
     "collapsed": false,
     "input": [
      "%timeit calc(100, 200, func=py_update)"
     ],
     "language": "python",
     "metadata": {},
     "outputs": [
      {
       "output_type": "stream",
       "stream": "stdout",
       "text": [
        "1 loops, best of 3: 6.63 s per loop\n"
       ]
      }
     ],
     "prompt_number": 48
    },
    {
     "cell_type": "markdown",
     "metadata": {},
     "source": [
      "Using `numpy`"
     ]
    },
    {
     "cell_type": "code",
     "collapsed": false,
     "input": [
      "def num_update(u):\n",
      "    u[1:-1,1:-1] = ((u[2:,1:-1]+u[:-2,1:-1])*dy2 + \n",
      "                    (u[1:-1,2:] + u[1:-1,:-2])*dx2) / (2*(dx2+dy2))"
     ],
     "language": "python",
     "metadata": {},
     "outputs": [],
     "prompt_number": 49
    },
    {
     "cell_type": "code",
     "collapsed": false,
     "input": [
      "%timeit calc(100, 200, func=num_update)"
     ],
     "language": "python",
     "metadata": {},
     "outputs": [
      {
       "output_type": "stream",
       "stream": "stdout",
       "text": [
        "10 loops, best of 3: 20.4 ms per loop\n"
       ]
      }
     ],
     "prompt_number": 50
    },
    {
     "cell_type": "markdown",
     "metadata": {},
     "source": [
      "Using the `weave` module to implement C."
     ]
    },
    {
     "cell_type": "code",
     "collapsed": false,
     "input": [
      "def weave_update(u):\n",
      "    code = \"\"\"\n",
      "    int i, j;\n",
      "    for (i=1; i<Nu[0]-1; i++) {\n",
      "       for (j=1; j<Nu[1]-1; j++) {\n",
      "           U2(i,j) = ((U2(i+1, j) + U2(i-1, j))*dy2 + \\\n",
      "                       (U2(i, j+1) + U2(i, j-1))*dx2) / (2*(dx2+dy2));\n",
      "       }\n",
      "    }\n",
      "    \"\"\"\n",
      "    weave.inline(code, ['u', 'dx2', 'dy2'])"
     ],
     "language": "python",
     "metadata": {},
     "outputs": [],
     "prompt_number": 51
    },
    {
     "cell_type": "code",
     "collapsed": false,
     "input": [
      "%timeit calc(100, 200, func=weave_update)"
     ],
     "language": "python",
     "metadata": {},
     "outputs": [
      {
       "output_type": "stream",
       "stream": "stdout",
       "text": [
        "10 loops, best of 3: 24 ms per loop\n"
       ]
      }
     ],
     "prompt_number": 52
    },
    {
     "cell_type": "markdown",
     "metadata": {},
     "source": [
      "---\n",
      "<a id='ctypes'></a>\n",
      "#### Cython\n",
      "\n",
      "![](http://www.ctcc.no/events/events-in-oslo/2012/cython-logo-507.jpg)\n",
      "\n",
      "[Cython](http://cython.org/) serves as another interface between Python and C.  Strictly speaking, Cython is a static compiler for a superset of the Python language.  From the [documentation](http://docs.cython.org/):  \"The Cython language is a superset of the Python language that additionally supports calling C functions and declaring C types on variables and class attributes. This allows the compiler to generate very efficient C code from Cython code.\"\n",
      "\n",
      "Basically any Python code is valid Cython code, but Cython additionally imposes C data types (and manages them intelligently behind the scenes), as well as provides a basic superset of the language to manage this extensions (such as the keywords `cdef` and `cimport`).  So you lose the flexibility of a dynamic interpreted language, but gain some performance and interoperability.\n",
      "\n",
      "- [Cython language reference](http://docs.cython.org/src/userguide/language_basics.html#language-basics)\n",
      "\n",
      "##### Using Cython\n",
      "\n",
      "Using Cython consists of the following steps:\n",
      "\n",
      "1. Composing a `.pyx` source file.\n",
      "1. Running the Cython compiler to generate a C file.\n",
      "1. Running a C compiler to generate a compiled library.\n",
      "1. Running the Python interpreter and `import`ing the module."
     ]
    },
    {
     "cell_type": "code",
     "collapsed": false,
     "input": [
      "%%file factorial.pyx\n",
      "def factorial(n):\n",
      "    return 1 if (n < 1) else n * factorial(n-1)"
     ],
     "language": "python",
     "metadata": {},
     "outputs": [
      {
       "output_type": "stream",
       "stream": "stdout",
       "text": [
        "Writing factorial.pyx\n"
       ]
      }
     ],
     "prompt_number": 53
    },
    {
     "cell_type": "markdown",
     "metadata": {},
     "source": [
      "Hop over to a shell and take a look at the generated code in `factorial.c`.  I dare you to untangle it.\n",
      "\n",
      "Given a `pyx` file, there are a few ways we can convert this to a C module using Cython.  The first is to carry out the basic steps manually."
     ]
    },
    {
     "cell_type": "code",
     "collapsed": false,
     "input": [
      "!cython factorial.pyx"
     ],
     "language": "python",
     "metadata": {},
     "outputs": [],
     "prompt_number": 54
    },
    {
     "cell_type": "code",
     "collapsed": false,
     "input": [
      "#!gcc -shared -fPIC -o factorial.so factorial.c\n",
      "!gcc -I /software/canopy-1.4.1/installer/appdata/canopy-1.4.1.1975.rh5-x86_64/include/python2.7/ -shared -fPIC -o factorial.so factorial.c"
     ],
     "language": "python",
     "metadata": {},
     "outputs": [
      {
       "output_type": "stream",
       "stream": "stdout",
       "text": [
        "\u001b[1mfactorial.c:8:10: \u001b[0m\u001b[0;1;31mfatal error: \u001b[0m\u001b[1m'pyconfig.h' file not found\u001b[0m\r\n",
        "#include \"pyconfig.h\"\r\n",
        "\u001b[0;1;32m         ^\r\n",
        "\u001b[0m1 error generated.\r\n"
       ]
      }
     ],
     "prompt_number": 55
    },
    {
     "cell_type": "code",
     "collapsed": false,
     "input": [
      "import factorial\n",
      "print(factorial.factorial(6))"
     ],
     "language": "python",
     "metadata": {},
     "outputs": [
      {
       "ename": "ImportError",
       "evalue": "No module named factorial",
       "output_type": "pyerr",
       "traceback": [
        "\u001b[0;31m---------------------------------------------------------------------------\u001b[0m\n\u001b[0;31mImportError\u001b[0m                               Traceback (most recent call last)",
        "\u001b[0;32m<ipython-input-56-4d6d17025505>\u001b[0m in \u001b[0;36m<module>\u001b[0;34m()\u001b[0m\n\u001b[0;32m----> 1\u001b[0;31m \u001b[0;32mimport\u001b[0m \u001b[0mfactorial\u001b[0m\u001b[0;34m\u001b[0m\u001b[0m\n\u001b[0m\u001b[1;32m      2\u001b[0m \u001b[0;32mprint\u001b[0m\u001b[0;34m(\u001b[0m\u001b[0mfactorial\u001b[0m\u001b[0;34m.\u001b[0m\u001b[0mfactorial\u001b[0m\u001b[0;34m(\u001b[0m\u001b[0;36m6\u001b[0m\u001b[0;34m)\u001b[0m\u001b[0;34m)\u001b[0m\u001b[0;34m\u001b[0m\u001b[0m\n",
        "\u001b[0;31mImportError\u001b[0m: No module named factorial"
       ]
      }
     ],
     "prompt_number": 56
    },
    {
     "cell_type": "markdown",
     "metadata": {},
     "source": [
      "Another path to Cython is to use the built-in `cythonize` function.  (This is preferred for large codes.)  I had trouble getting this to work on the EWS installation of Python, however."
     ]
    },
    {
     "cell_type": "code",
     "collapsed": false,
     "input": [
      "from distutils.core import setup\n",
      "from Cython.Build import cythonize\n",
      "\n",
      "setup(\n",
      "    ext_modules=cythonize(\"factorial.pyx\"),\n",
      ")\n",
      "# problem is clang \u00f1 gcc here (-fopenmp)"
     ],
     "language": "python",
     "metadata": {},
     "outputs": [
      {
       "ename": "SystemExit",
       "evalue": "usage: -c [global_opts] cmd1 [cmd1_opts] [cmd2 [cmd2_opts] ...]\n   or: -c --help [cmd1 cmd2 ...]\n   or: -c --help-commands\n   or: -c cmd --help\n\nerror: option -f not recognized",
       "output_type": "pyerr",
       "traceback": [
        "An exception has occurred, use %tb to see the full traceback.\n",
        "\u001b[0;31mSystemExit\u001b[0m\u001b[0;31m:\u001b[0m usage: -c [global_opts] cmd1 [cmd1_opts] [cmd2 [cmd2_opts] ...]\n   or: -c --help [cmd1 cmd2 ...]\n   or: -c --help-commands\n   or: -c cmd --help\n\nerror: option -f not recognized\n"
       ]
      },
      {
       "output_type": "stream",
       "stream": "stderr",
       "text": [
        "To exit: use 'exit', 'quit', or Ctrl-D.\n"
       ]
      }
     ],
     "prompt_number": 57
    },
    {
     "cell_type": "code",
     "collapsed": false,
     "input": [
      "%tb"
     ],
     "language": "python",
     "metadata": {},
     "outputs": [
      {
       "ename": "SystemExit",
       "evalue": "usage: -c [global_opts] cmd1 [cmd1_opts] [cmd2 [cmd2_opts] ...]\n   or: -c --help [cmd1 cmd2 ...]\n   or: -c --help-commands\n   or: -c cmd --help\n\nerror: option -f not recognized",
       "output_type": "pyerr",
       "traceback": [
        "\u001b[0;31m---------------------------------------------------------------------------\u001b[0m\n\u001b[0;31mSystemExit\u001b[0m                                Traceback (most recent call last)",
        "\u001b[0;32m<ipython-input-57-7e9601081d40>\u001b[0m in \u001b[0;36m<module>\u001b[0;34m()\u001b[0m\n\u001b[1;32m      3\u001b[0m \u001b[0;34m\u001b[0m\u001b[0m\n\u001b[1;32m      4\u001b[0m setup(\n\u001b[0;32m----> 5\u001b[0;31m     \u001b[0mext_modules\u001b[0m\u001b[0;34m=\u001b[0m\u001b[0mcythonize\u001b[0m\u001b[0;34m(\u001b[0m\u001b[0;34m\"factorial.pyx\"\u001b[0m\u001b[0;34m)\u001b[0m\u001b[0;34m,\u001b[0m\u001b[0;34m\u001b[0m\u001b[0m\n\u001b[0m\u001b[1;32m      6\u001b[0m )\n\u001b[1;32m      7\u001b[0m \u001b[0;31m# problem is clang \u00f1 gcc here (-fopenmp)\u001b[0m\u001b[0;34m\u001b[0m\u001b[0;34m\u001b[0m\u001b[0m\n",
        "\u001b[0;32m/Applications/Canopy.app/appdata/updates/ready/canopy-1.4.0.1938.macosx-x86_64/Canopy.app/Contents/lib/python2.7/distutils/core.pyc\u001b[0m in \u001b[0;36msetup\u001b[0;34m(**attrs)\u001b[0m\n\u001b[1;32m    138\u001b[0m         \u001b[0mok\u001b[0m \u001b[0;34m=\u001b[0m \u001b[0mdist\u001b[0m\u001b[0;34m.\u001b[0m\u001b[0mparse_command_line\u001b[0m\u001b[0;34m(\u001b[0m\u001b[0;34m)\u001b[0m\u001b[0;34m\u001b[0m\u001b[0m\n\u001b[1;32m    139\u001b[0m     \u001b[0;32mexcept\u001b[0m \u001b[0mDistutilsArgError\u001b[0m\u001b[0;34m,\u001b[0m \u001b[0mmsg\u001b[0m\u001b[0;34m:\u001b[0m\u001b[0;34m\u001b[0m\u001b[0m\n\u001b[0;32m--> 140\u001b[0;31m         \u001b[0;32mraise\u001b[0m \u001b[0mSystemExit\u001b[0m\u001b[0;34m,\u001b[0m \u001b[0mgen_usage\u001b[0m\u001b[0;34m(\u001b[0m\u001b[0mdist\u001b[0m\u001b[0;34m.\u001b[0m\u001b[0mscript_name\u001b[0m\u001b[0;34m)\u001b[0m \u001b[0;34m+\u001b[0m \u001b[0;34m\"\\nerror: %s\"\u001b[0m \u001b[0;34m%\u001b[0m \u001b[0mmsg\u001b[0m\u001b[0;34m\u001b[0m\u001b[0m\n\u001b[0m\u001b[1;32m    141\u001b[0m \u001b[0;34m\u001b[0m\u001b[0m\n\u001b[1;32m    142\u001b[0m     \u001b[0;32mif\u001b[0m \u001b[0mDEBUG\u001b[0m\u001b[0;34m:\u001b[0m\u001b[0;34m\u001b[0m\u001b[0m\n",
        "\u001b[0;31mSystemExit\u001b[0m: usage: -c [global_opts] cmd1 [cmd1_opts] [cmd2 [cmd2_opts] ...]\n   or: -c --help [cmd1 cmd2 ...]\n   or: -c --help-commands\n   or: -c cmd --help\n\nerror: option -f not recognized"
       ]
      }
     ],
     "prompt_number": 58
    },
    {
     "cell_type": "code",
     "collapsed": false,
     "input": [
      "!python setup.py build_ext --inplace"
     ],
     "language": "python",
     "metadata": {},
     "outputs": [
      {
       "output_type": "stream",
       "stream": "stdout",
       "text": [
        "python: can't open file 'setup.py': [Errno 2] No such file or directory\r\n"
       ]
      }
     ],
     "prompt_number": 59
    },
    {
     "cell_type": "markdown",
     "metadata": {},
     "source": [
      "When working with the IPython notebook environment, there is a convenient way of compiling and loading Cython code.  Using the `%%cython` IPython magic, we can simply type the Cython code in a code cell and let IPython take care of the conversion to C code, compilation and loading of the function.  To be able to use the `%%cython` magic in IPython, we first need to load the extension `cythonmagic`:"
     ]
    },
    {
     "cell_type": "code",
     "collapsed": false,
     "input": [
      "%load_ext cythonmagic"
     ],
     "language": "python",
     "metadata": {},
     "outputs": [],
     "prompt_number": 60
    },
    {
     "cell_type": "code",
     "collapsed": false,
     "input": [
      "%%cython\n",
      "cimport numpy\n",
      "\n",
      "def cy_dcumsum2(numpy.ndarray[numpy.float64_t, ndim=1] a, numpy.ndarray[numpy.float64_t, ndim=1] b):\n",
      "    cdef int i, n = len(a)\n",
      "    b[0] = a[0]\n",
      "    for i from 1 <= i < n:\n",
      "        b[i] = b[i-1] + a[i]\n",
      "    return b"
     ],
     "language": "python",
     "metadata": {},
     "outputs": [],
     "prompt_number": 61
    },
    {
     "cell_type": "code",
     "collapsed": false,
     "input": [
      "import numpy as np\n",
      "\n",
      "x = np.ones((32))\n",
      "y = np.zeros(x.shape)\n",
      "\n",
      "cy_dcumsum2(x,y)\n",
      "\n",
      "print(y)"
     ],
     "language": "python",
     "metadata": {},
     "outputs": [
      {
       "output_type": "stream",
       "stream": "stdout",
       "text": [
        "[  1.   2.   3.   4.   5.   6.   7.   8.   9.  10.  11.  12.  13.  14.  15.\n",
        "  16.  17.  18.  19.  20.  21.  22.  23.  24.  25.  26.  27.  28.  29.  30.\n",
        "  31.  32.]\n"
       ]
      }
     ],
     "prompt_number": 62
    },
    {
     "cell_type": "markdown",
     "metadata": {},
     "source": [
      "Okay, so as a refresher, Cython usage [boils down to](http://docs.cython.org/src/userguide/numpy_tutorial.html#your-cython-environment):\n",
      "\n",
      "    $ cython mymodule.pyx\n",
      "    $ gcc mymodule.c -o mymodule.so\n",
      "    $ python\n",
      "    >>> import mymodule"
     ]
    },
    {
     "cell_type": "markdown",
     "metadata": {},
     "source": [
      "---\n",
      "<a id='refs'></a>\n",
      "## References\n",
      "\n",
      "- [On using Arrays in FORTRAN](http://web.stanford.edu/class/me200c/tutorial_77/10_arrays.html)\n",
      "- [Gently introducing C](http://www.ntu.edu.sg/home/ehchua/programming/cpp/c0_Introduction.html)\n",
      "- [On ctypes](https://docs.python.org/2/library/ctypes.html)\n",
      "- [On exploiting Python for performance](http://wiki.scipy.org/PerformancePython)\n",
      "- [A look at combining Python with FORTRAN, C and C++](http://www.sam.math.ethz.ch/~raoulb/teaching/PythonTutorial/combining.html)\n",
      "\n",
      "- J. R. Johansson's [Scientific Python Lectures](https://github.com/jrjohansson/scientific-python-lectures)\u2014[Lesson 6A](http://nbviewer.ipython.org/urls/raw.github.com/jrjohansson/scientific-python-lectures/master/Lecture-6A-Fortran-and-C.ipynb)\n",
      "\n",
      "- [Stack Overflow:  Wrapping a C library in Python: C, Cython or ctypes?](https://stackoverflow.com/questions/1942298/wrapping-a-c-library-in-python-c-cython-or-ctypes)"
     ]
    },
    {
     "cell_type": "markdown",
     "metadata": {},
     "source": [
      "---\n",
      "<a id='credits'></a>\n",
      "## Credits\n",
      "\n",
      "Lakshmi Rao and Neal Davis developed these materials for [Computational Science and Engineering](http://cse.illinois.edu/) at the University of Illinois at Urbana\u2013Champaign.\n",
      "\n",
      "<img src=\"http://i.creativecommons.org/l/by/3.0/88x31.png\" align=\"left\">\n",
      "This content is available under a [Creative Commons Attribution 3.0 Unported License](https://creativecommons.org/licenses/by/3.0/).\n",
      "\n",
      "[![](https://bytebucket.org/davis68/resources/raw/f7c98d2b95e961fae257707e22a58fa1a2c36bec/logos/baseline_cse_wdmk.png?token=be4cc41d4b2afe594f5b1570a3c5aad96a65f0d6)](http://cse.illinois.edu/)"
     ]
    }
   ],
   "metadata": {}
  }
 ]
}